{
  "nbformat": 4,
  "nbformat_minor": 0,
  "metadata": {
    "colab": {
      "name": "Feature_Selection_Binary_CICIDS2017.ipynb",
      "provenance": [],
      "collapsed_sections": [
        "5uMpiu7NiosZ",
        "EHgwhBZoQ_cu",
        "BUe9DvoMbBPf",
        "mH3WiqODGVW3",
        "af5-Mb6gHXZK",
        "dOuhw0NlfDx1",
        "qssPSW3GfDx6",
        "zUY00E7PSCrs"
      ]
    },
    "kernelspec": {
      "name": "python3",
      "display_name": "Python 3"
    },
    "language_info": {
      "name": "python"
    }
  },
  "cells": [
    {
      "cell_type": "markdown",
      "source": [
        "# Importing Libraries"
      ],
      "metadata": {
        "id": "s_B0oQ9JJXIG"
      }
    },
    {
      "cell_type": "code",
      "metadata": {
        "colab": {
          "base_uri": "https://localhost:8080/"
        },
        "id": "S6DDwtfLaWYf",
        "outputId": "abe42946-07b3-45f4-90ea-81fc47d7164b"
      },
      "source": [
        "from google.colab import drive\n",
        "drive.mount('/content/drive/')"
      ],
      "execution_count": null,
      "outputs": [
        {
          "output_type": "stream",
          "name": "stdout",
          "text": [
            "Mounted at /content/drive/\n"
          ]
        }
      ]
    },
    {
      "cell_type": "code",
      "metadata": {
        "id": "DEJzvo1iYLiv"
      },
      "source": [
        "# Important libraries\n",
        "import numpy as np\n",
        "import pandas as pd\n",
        "import random\n",
        "\n",
        "# Models\n",
        "from sklearn.neural_network import MLPClassifier\n",
        "from sklearn.naive_bayes import GaussianNB, MultinomialNB\n",
        "from sklearn.svm import SVC\n",
        "from sklearn.ensemble import RandomForestClassifier\n",
        "\n",
        "# preprocessing\n",
        "from sklearn import preprocessing\n",
        "from sklearn.preprocessing import StandardScaler, MinMaxScaler\n",
        "from sklearn.model_selection import train_test_split\n",
        "from sklearn.model_selection import GridSearchCV\n",
        "\n",
        "# feture selection\n",
        "from sklearn.feature_selection import SequentialFeatureSelector\n",
        "\n",
        "# measuring performance\n",
        "from sklearn.metrics import classification_report, confusion_matrix\n",
        "from sklearn.metrics import mean_squared_error\n",
        "from sklearn.metrics import f1_score, make_scorer\n",
        "\n",
        "# plotting\n",
        "import matplotlib.pyplot as plt\n",
        "import seaborn as sns\n",
        "%matplotlib inline\n",
        "\n",
        "import warnings\n",
        "warnings.filterwarnings('ignore')"
      ],
      "execution_count": null,
      "outputs": []
    },
    {
      "cell_type": "markdown",
      "source": [
        "## Helper Functions"
      ],
      "metadata": {
        "id": "6Ugz9nnWhkRS"
      }
    },
    {
      "cell_type": "code",
      "source": [
        "#Function to evaluate the performance of the model using classification report and plot the confusion matrix using heatmap\n",
        "from sklearn.metrics import plot_confusion_matrix\n",
        "def evaluate_model(model, X_test, y_test, title=''):\n",
        "  figure, ax = plt.subplots(figsize=(12, 12))\n",
        "  plot_confusion_matrix(model, X_test, y_test, ax=ax) \n",
        "  plt.title(title)\n",
        "  plt.show()"
      ],
      "metadata": {
        "id": "6422e0GBP83E"
      },
      "execution_count": null,
      "outputs": []
    },
    {
      "cell_type": "code",
      "source": [
        "def plotModels(models, title = '', xlabel = '', ylabel = ''):\n",
        "  for i in models:\n",
        "    plt.bar(i[0], i[1])\n",
        "\n",
        "  plt.title(title)\n",
        "  plt.xlabel(xlabel)\n",
        "  plt.ylabel(ylabel)\n",
        "  plt.show()"
      ],
      "metadata": {
        "id": "i00HIOnohmuL"
      },
      "execution_count": null,
      "outputs": []
    },
    {
      "cell_type": "markdown",
      "source": [
        "# Using The CICIDS2017 dataset (Binary)"
      ],
      "metadata": {
        "id": "BGEnvK15aSZR"
      }
    },
    {
      "cell_type": "markdown",
      "source": [
        "## Dataset Preprocessing"
      ],
      "metadata": {
        "id": "IS3dnuCaGlwE"
      }
    },
    {
      "cell_type": "code",
      "source": [
        "cicids_dataset = pd.read_csv('/content/drive/MyDrive/AI for CS/Final Project Datasets/CICIDS2017.csv', index_col=[0])"
      ],
      "metadata": {
        "id": "YRoRsZ2eaWSm"
      },
      "execution_count": null,
      "outputs": []
    },
    {
      "cell_type": "code",
      "source": [
        "cicids_dataset.head()"
      ],
      "metadata": {
        "colab": {
          "base_uri": "https://localhost:8080/"
        },
        "id": "h3esgsv6as65",
        "outputId": "37fbb4fb-1752-4299-e032-7e1a1c28ac7f"
      },
      "execution_count": null,
      "outputs": [
        {
          "output_type": "execute_result",
          "data": {
            "text/html": [
              "<div>\n",
              "<style scoped>\n",
              "    .dataframe tbody tr th:only-of-type {\n",
              "        vertical-align: middle;\n",
              "    }\n",
              "\n",
              "    .dataframe tbody tr th {\n",
              "        vertical-align: top;\n",
              "    }\n",
              "\n",
              "    .dataframe thead th {\n",
              "        text-align: right;\n",
              "    }\n",
              "</style>\n",
              "<table border=\"1\" class=\"dataframe\">\n",
              "  <thead>\n",
              "    <tr style=\"text-align: right;\">\n",
              "      <th></th>\n",
              "      <th>Destination Port</th>\n",
              "      <th>Flow Duration</th>\n",
              "      <th>Total Fwd Packets</th>\n",
              "      <th>Total Backward Packets</th>\n",
              "      <th>Total Length of Fwd Packets</th>\n",
              "      <th>Total Length of Bwd Packets</th>\n",
              "      <th>Fwd Packet Length Max</th>\n",
              "      <th>Fwd Packet Length Min</th>\n",
              "      <th>Fwd Packet Length Mean</th>\n",
              "      <th>Fwd Packet Length Std</th>\n",
              "      <th>Bwd Packet Length Max</th>\n",
              "      <th>Bwd Packet Length Min</th>\n",
              "      <th>Bwd Packet Length Mean</th>\n",
              "      <th>Bwd Packet Length Std</th>\n",
              "      <th>Flow Bytes/s</th>\n",
              "      <th>Flow Packets/s</th>\n",
              "      <th>Flow IAT Mean</th>\n",
              "      <th>Flow IAT Std</th>\n",
              "      <th>Flow IAT Max</th>\n",
              "      <th>Flow IAT Min</th>\n",
              "      <th>Fwd IAT Total</th>\n",
              "      <th>Fwd IAT Mean</th>\n",
              "      <th>Fwd IAT Std</th>\n",
              "      <th>Fwd IAT Max</th>\n",
              "      <th>Fwd IAT Min</th>\n",
              "      <th>Bwd IAT Total</th>\n",
              "      <th>Bwd IAT Mean</th>\n",
              "      <th>Bwd IAT Std</th>\n",
              "      <th>Bwd IAT Max</th>\n",
              "      <th>Bwd IAT Min</th>\n",
              "      <th>Fwd PSH Flags</th>\n",
              "      <th>Bwd PSH Flags</th>\n",
              "      <th>Fwd URG Flags</th>\n",
              "      <th>Bwd URG Flags</th>\n",
              "      <th>Fwd Header Length</th>\n",
              "      <th>Bwd Header Length</th>\n",
              "      <th>Fwd Packets/s</th>\n",
              "      <th>Bwd Packets/s</th>\n",
              "      <th>Min Packet Length</th>\n",
              "      <th>Max Packet Length</th>\n",
              "      <th>Packet Length Mean</th>\n",
              "      <th>Packet Length Std</th>\n",
              "      <th>Packet Length Variance</th>\n",
              "      <th>FIN Flag Count</th>\n",
              "      <th>SYN Flag Count</th>\n",
              "      <th>RST Flag Count</th>\n",
              "      <th>PSH Flag Count</th>\n",
              "      <th>ACK Flag Count</th>\n",
              "      <th>URG Flag Count</th>\n",
              "      <th>CWE Flag Count</th>\n",
              "      <th>ECE Flag Count</th>\n",
              "      <th>Down/Up Ratio</th>\n",
              "      <th>Average Packet Size</th>\n",
              "      <th>Avg Fwd Segment Size</th>\n",
              "      <th>Avg Bwd Segment Size</th>\n",
              "      <th>Fwd Header Length.1</th>\n",
              "      <th>Fwd Avg Bytes/Bulk</th>\n",
              "      <th>Fwd Avg Packets/Bulk</th>\n",
              "      <th>Fwd Avg Bulk Rate</th>\n",
              "      <th>Bwd Avg Bytes/Bulk</th>\n",
              "      <th>Bwd Avg Packets/Bulk</th>\n",
              "      <th>Bwd Avg Bulk Rate</th>\n",
              "      <th>Subflow Fwd Packets</th>\n",
              "      <th>Subflow Fwd Bytes</th>\n",
              "      <th>Subflow Bwd Packets</th>\n",
              "      <th>Subflow Bwd Bytes</th>\n",
              "      <th>Init_Win_bytes_forward</th>\n",
              "      <th>Init_Win_bytes_backward</th>\n",
              "      <th>act_data_pkt_fwd</th>\n",
              "      <th>min_seg_size_forward</th>\n",
              "      <th>Active Mean</th>\n",
              "      <th>Active Std</th>\n",
              "      <th>Active Max</th>\n",
              "      <th>Active Min</th>\n",
              "      <th>Idle Mean</th>\n",
              "      <th>Idle Std</th>\n",
              "      <th>Idle Max</th>\n",
              "      <th>Idle Min</th>\n",
              "      <th>Label</th>\n",
              "    </tr>\n",
              "  </thead>\n",
              "  <tbody>\n",
              "    <tr>\n",
              "      <th>0</th>\n",
              "      <td>54865</td>\n",
              "      <td>3</td>\n",
              "      <td>2</td>\n",
              "      <td>0</td>\n",
              "      <td>12</td>\n",
              "      <td>0</td>\n",
              "      <td>6</td>\n",
              "      <td>6</td>\n",
              "      <td>6.0</td>\n",
              "      <td>0.0</td>\n",
              "      <td>0</td>\n",
              "      <td>0</td>\n",
              "      <td>0.0</td>\n",
              "      <td>0.0</td>\n",
              "      <td>4.000000e+06</td>\n",
              "      <td>666666.66670</td>\n",
              "      <td>3.0</td>\n",
              "      <td>0.0</td>\n",
              "      <td>3</td>\n",
              "      <td>3</td>\n",
              "      <td>3</td>\n",
              "      <td>3.0</td>\n",
              "      <td>0.0</td>\n",
              "      <td>3</td>\n",
              "      <td>3</td>\n",
              "      <td>0</td>\n",
              "      <td>0.0</td>\n",
              "      <td>0.0</td>\n",
              "      <td>0</td>\n",
              "      <td>0</td>\n",
              "      <td>0</td>\n",
              "      <td>0</td>\n",
              "      <td>0</td>\n",
              "      <td>0</td>\n",
              "      <td>40</td>\n",
              "      <td>0</td>\n",
              "      <td>666666.666700</td>\n",
              "      <td>0.000000</td>\n",
              "      <td>6</td>\n",
              "      <td>6</td>\n",
              "      <td>6.0</td>\n",
              "      <td>0.0</td>\n",
              "      <td>0.0</td>\n",
              "      <td>0</td>\n",
              "      <td>0</td>\n",
              "      <td>0</td>\n",
              "      <td>0</td>\n",
              "      <td>1</td>\n",
              "      <td>0</td>\n",
              "      <td>0</td>\n",
              "      <td>0</td>\n",
              "      <td>0</td>\n",
              "      <td>9.0</td>\n",
              "      <td>6.0</td>\n",
              "      <td>0.0</td>\n",
              "      <td>40</td>\n",
              "      <td>0</td>\n",
              "      <td>0</td>\n",
              "      <td>0</td>\n",
              "      <td>0</td>\n",
              "      <td>0</td>\n",
              "      <td>0</td>\n",
              "      <td>2</td>\n",
              "      <td>12</td>\n",
              "      <td>0</td>\n",
              "      <td>0</td>\n",
              "      <td>33</td>\n",
              "      <td>-1</td>\n",
              "      <td>1</td>\n",
              "      <td>20</td>\n",
              "      <td>0.0</td>\n",
              "      <td>0.0</td>\n",
              "      <td>0</td>\n",
              "      <td>0</td>\n",
              "      <td>0.0</td>\n",
              "      <td>0.0</td>\n",
              "      <td>0</td>\n",
              "      <td>0</td>\n",
              "      <td>0</td>\n",
              "    </tr>\n",
              "    <tr>\n",
              "      <th>1</th>\n",
              "      <td>55054</td>\n",
              "      <td>109</td>\n",
              "      <td>1</td>\n",
              "      <td>1</td>\n",
              "      <td>6</td>\n",
              "      <td>6</td>\n",
              "      <td>6</td>\n",
              "      <td>6</td>\n",
              "      <td>6.0</td>\n",
              "      <td>0.0</td>\n",
              "      <td>6</td>\n",
              "      <td>6</td>\n",
              "      <td>6.0</td>\n",
              "      <td>0.0</td>\n",
              "      <td>1.100917e+05</td>\n",
              "      <td>18348.62385</td>\n",
              "      <td>109.0</td>\n",
              "      <td>0.0</td>\n",
              "      <td>109</td>\n",
              "      <td>109</td>\n",
              "      <td>0</td>\n",
              "      <td>0.0</td>\n",
              "      <td>0.0</td>\n",
              "      <td>0</td>\n",
              "      <td>0</td>\n",
              "      <td>0</td>\n",
              "      <td>0.0</td>\n",
              "      <td>0.0</td>\n",
              "      <td>0</td>\n",
              "      <td>0</td>\n",
              "      <td>0</td>\n",
              "      <td>0</td>\n",
              "      <td>0</td>\n",
              "      <td>0</td>\n",
              "      <td>20</td>\n",
              "      <td>20</td>\n",
              "      <td>9174.311927</td>\n",
              "      <td>9174.311927</td>\n",
              "      <td>6</td>\n",
              "      <td>6</td>\n",
              "      <td>6.0</td>\n",
              "      <td>0.0</td>\n",
              "      <td>0.0</td>\n",
              "      <td>0</td>\n",
              "      <td>0</td>\n",
              "      <td>0</td>\n",
              "      <td>0</td>\n",
              "      <td>1</td>\n",
              "      <td>1</td>\n",
              "      <td>0</td>\n",
              "      <td>0</td>\n",
              "      <td>1</td>\n",
              "      <td>9.0</td>\n",
              "      <td>6.0</td>\n",
              "      <td>6.0</td>\n",
              "      <td>20</td>\n",
              "      <td>0</td>\n",
              "      <td>0</td>\n",
              "      <td>0</td>\n",
              "      <td>0</td>\n",
              "      <td>0</td>\n",
              "      <td>0</td>\n",
              "      <td>1</td>\n",
              "      <td>6</td>\n",
              "      <td>1</td>\n",
              "      <td>6</td>\n",
              "      <td>29</td>\n",
              "      <td>256</td>\n",
              "      <td>0</td>\n",
              "      <td>20</td>\n",
              "      <td>0.0</td>\n",
              "      <td>0.0</td>\n",
              "      <td>0</td>\n",
              "      <td>0</td>\n",
              "      <td>0.0</td>\n",
              "      <td>0.0</td>\n",
              "      <td>0</td>\n",
              "      <td>0</td>\n",
              "      <td>0</td>\n",
              "    </tr>\n",
              "    <tr>\n",
              "      <th>2</th>\n",
              "      <td>55055</td>\n",
              "      <td>52</td>\n",
              "      <td>1</td>\n",
              "      <td>1</td>\n",
              "      <td>6</td>\n",
              "      <td>6</td>\n",
              "      <td>6</td>\n",
              "      <td>6</td>\n",
              "      <td>6.0</td>\n",
              "      <td>0.0</td>\n",
              "      <td>6</td>\n",
              "      <td>6</td>\n",
              "      <td>6.0</td>\n",
              "      <td>0.0</td>\n",
              "      <td>2.307692e+05</td>\n",
              "      <td>38461.53846</td>\n",
              "      <td>52.0</td>\n",
              "      <td>0.0</td>\n",
              "      <td>52</td>\n",
              "      <td>52</td>\n",
              "      <td>0</td>\n",
              "      <td>0.0</td>\n",
              "      <td>0.0</td>\n",
              "      <td>0</td>\n",
              "      <td>0</td>\n",
              "      <td>0</td>\n",
              "      <td>0.0</td>\n",
              "      <td>0.0</td>\n",
              "      <td>0</td>\n",
              "      <td>0</td>\n",
              "      <td>0</td>\n",
              "      <td>0</td>\n",
              "      <td>0</td>\n",
              "      <td>0</td>\n",
              "      <td>20</td>\n",
              "      <td>20</td>\n",
              "      <td>19230.769230</td>\n",
              "      <td>19230.769230</td>\n",
              "      <td>6</td>\n",
              "      <td>6</td>\n",
              "      <td>6.0</td>\n",
              "      <td>0.0</td>\n",
              "      <td>0.0</td>\n",
              "      <td>0</td>\n",
              "      <td>0</td>\n",
              "      <td>0</td>\n",
              "      <td>0</td>\n",
              "      <td>1</td>\n",
              "      <td>1</td>\n",
              "      <td>0</td>\n",
              "      <td>0</td>\n",
              "      <td>1</td>\n",
              "      <td>9.0</td>\n",
              "      <td>6.0</td>\n",
              "      <td>6.0</td>\n",
              "      <td>20</td>\n",
              "      <td>0</td>\n",
              "      <td>0</td>\n",
              "      <td>0</td>\n",
              "      <td>0</td>\n",
              "      <td>0</td>\n",
              "      <td>0</td>\n",
              "      <td>1</td>\n",
              "      <td>6</td>\n",
              "      <td>1</td>\n",
              "      <td>6</td>\n",
              "      <td>29</td>\n",
              "      <td>256</td>\n",
              "      <td>0</td>\n",
              "      <td>20</td>\n",
              "      <td>0.0</td>\n",
              "      <td>0.0</td>\n",
              "      <td>0</td>\n",
              "      <td>0</td>\n",
              "      <td>0.0</td>\n",
              "      <td>0.0</td>\n",
              "      <td>0</td>\n",
              "      <td>0</td>\n",
              "      <td>0</td>\n",
              "    </tr>\n",
              "    <tr>\n",
              "      <th>3</th>\n",
              "      <td>46236</td>\n",
              "      <td>34</td>\n",
              "      <td>1</td>\n",
              "      <td>1</td>\n",
              "      <td>6</td>\n",
              "      <td>6</td>\n",
              "      <td>6</td>\n",
              "      <td>6</td>\n",
              "      <td>6.0</td>\n",
              "      <td>0.0</td>\n",
              "      <td>6</td>\n",
              "      <td>6</td>\n",
              "      <td>6.0</td>\n",
              "      <td>0.0</td>\n",
              "      <td>3.529412e+05</td>\n",
              "      <td>58823.52941</td>\n",
              "      <td>34.0</td>\n",
              "      <td>0.0</td>\n",
              "      <td>34</td>\n",
              "      <td>34</td>\n",
              "      <td>0</td>\n",
              "      <td>0.0</td>\n",
              "      <td>0.0</td>\n",
              "      <td>0</td>\n",
              "      <td>0</td>\n",
              "      <td>0</td>\n",
              "      <td>0.0</td>\n",
              "      <td>0.0</td>\n",
              "      <td>0</td>\n",
              "      <td>0</td>\n",
              "      <td>0</td>\n",
              "      <td>0</td>\n",
              "      <td>0</td>\n",
              "      <td>0</td>\n",
              "      <td>20</td>\n",
              "      <td>20</td>\n",
              "      <td>29411.764710</td>\n",
              "      <td>29411.764710</td>\n",
              "      <td>6</td>\n",
              "      <td>6</td>\n",
              "      <td>6.0</td>\n",
              "      <td>0.0</td>\n",
              "      <td>0.0</td>\n",
              "      <td>0</td>\n",
              "      <td>0</td>\n",
              "      <td>0</td>\n",
              "      <td>0</td>\n",
              "      <td>1</td>\n",
              "      <td>1</td>\n",
              "      <td>0</td>\n",
              "      <td>0</td>\n",
              "      <td>1</td>\n",
              "      <td>9.0</td>\n",
              "      <td>6.0</td>\n",
              "      <td>6.0</td>\n",
              "      <td>20</td>\n",
              "      <td>0</td>\n",
              "      <td>0</td>\n",
              "      <td>0</td>\n",
              "      <td>0</td>\n",
              "      <td>0</td>\n",
              "      <td>0</td>\n",
              "      <td>1</td>\n",
              "      <td>6</td>\n",
              "      <td>1</td>\n",
              "      <td>6</td>\n",
              "      <td>31</td>\n",
              "      <td>329</td>\n",
              "      <td>0</td>\n",
              "      <td>20</td>\n",
              "      <td>0.0</td>\n",
              "      <td>0.0</td>\n",
              "      <td>0</td>\n",
              "      <td>0</td>\n",
              "      <td>0.0</td>\n",
              "      <td>0.0</td>\n",
              "      <td>0</td>\n",
              "      <td>0</td>\n",
              "      <td>0</td>\n",
              "    </tr>\n",
              "    <tr>\n",
              "      <th>4</th>\n",
              "      <td>54863</td>\n",
              "      <td>3</td>\n",
              "      <td>2</td>\n",
              "      <td>0</td>\n",
              "      <td>12</td>\n",
              "      <td>0</td>\n",
              "      <td>6</td>\n",
              "      <td>6</td>\n",
              "      <td>6.0</td>\n",
              "      <td>0.0</td>\n",
              "      <td>0</td>\n",
              "      <td>0</td>\n",
              "      <td>0.0</td>\n",
              "      <td>0.0</td>\n",
              "      <td>4.000000e+06</td>\n",
              "      <td>666666.66670</td>\n",
              "      <td>3.0</td>\n",
              "      <td>0.0</td>\n",
              "      <td>3</td>\n",
              "      <td>3</td>\n",
              "      <td>3</td>\n",
              "      <td>3.0</td>\n",
              "      <td>0.0</td>\n",
              "      <td>3</td>\n",
              "      <td>3</td>\n",
              "      <td>0</td>\n",
              "      <td>0.0</td>\n",
              "      <td>0.0</td>\n",
              "      <td>0</td>\n",
              "      <td>0</td>\n",
              "      <td>0</td>\n",
              "      <td>0</td>\n",
              "      <td>0</td>\n",
              "      <td>0</td>\n",
              "      <td>40</td>\n",
              "      <td>0</td>\n",
              "      <td>666666.666700</td>\n",
              "      <td>0.000000</td>\n",
              "      <td>6</td>\n",
              "      <td>6</td>\n",
              "      <td>6.0</td>\n",
              "      <td>0.0</td>\n",
              "      <td>0.0</td>\n",
              "      <td>0</td>\n",
              "      <td>0</td>\n",
              "      <td>0</td>\n",
              "      <td>0</td>\n",
              "      <td>1</td>\n",
              "      <td>0</td>\n",
              "      <td>0</td>\n",
              "      <td>0</td>\n",
              "      <td>0</td>\n",
              "      <td>9.0</td>\n",
              "      <td>6.0</td>\n",
              "      <td>0.0</td>\n",
              "      <td>40</td>\n",
              "      <td>0</td>\n",
              "      <td>0</td>\n",
              "      <td>0</td>\n",
              "      <td>0</td>\n",
              "      <td>0</td>\n",
              "      <td>0</td>\n",
              "      <td>2</td>\n",
              "      <td>12</td>\n",
              "      <td>0</td>\n",
              "      <td>0</td>\n",
              "      <td>32</td>\n",
              "      <td>-1</td>\n",
              "      <td>1</td>\n",
              "      <td>20</td>\n",
              "      <td>0.0</td>\n",
              "      <td>0.0</td>\n",
              "      <td>0</td>\n",
              "      <td>0</td>\n",
              "      <td>0.0</td>\n",
              "      <td>0.0</td>\n",
              "      <td>0</td>\n",
              "      <td>0</td>\n",
              "      <td>0</td>\n",
              "    </tr>\n",
              "  </tbody>\n",
              "</table>\n",
              "</div>"
            ],
            "text/plain": [
              "   Destination Port  Flow Duration  ...  Idle Min  Label\n",
              "0             54865              3  ...         0      0\n",
              "1             55054            109  ...         0      0\n",
              "2             55055             52  ...         0      0\n",
              "3             46236             34  ...         0      0\n",
              "4             54863              3  ...         0      0\n",
              "\n",
              "[5 rows x 79 columns]"
            ]
          },
          "metadata": {},
          "execution_count": 252
        }
      ]
    },
    {
      "cell_type": "code",
      "source": [
        "cicids_dataset = cicids_dataset[(cicids_dataset.iloc[:, :] < np.finfo(np.float64).max).all(axis=1)]"
      ],
      "metadata": {
        "id": "wgcpFgFvdVXr"
      },
      "execution_count": null,
      "outputs": []
    },
    {
      "cell_type": "code",
      "source": [
        "ax = sns.countplot(x ='Label', data=cicids_dataset)\n",
        "ax.set_xticklabels(ax.get_xticklabels())\n",
        "ax.set_title('Distribution of the labels in the dataset')\n",
        "plt.show()"
      ],
      "metadata": {
        "colab": {
          "base_uri": "https://localhost:8080/"
        },
        "id": "_XVkVzvY9gVx",
        "outputId": "1dc805bb-5894-4a28-94e3-870a192b901b"
      },
      "execution_count": null,
      "outputs": [
        {
          "output_type": "display_data",
          "data": {
            "image/png": "[encoded data removed]",
            "text/plain": [
              "<Figure size 432x288 with 1 Axes>"
            ]
          },
          "metadata": {
            "needs_background": "light"
          }
        }
      ]
    },
    {
      "cell_type": "code",
      "source": [
        "cicids_X = cicids_dataset.iloc[:,:-1]\n",
        "cicids_y = cicids_dataset.iloc[:,-1]"
      ],
      "metadata": {
        "id": "_xRG1r63cx5L"
      },
      "execution_count": null,
      "outputs": []
    },
    {
      "cell_type": "code",
      "source": [
        "cicids_X.shape"
      ],
      "metadata": {
        "colab": {
          "base_uri": "https://localhost:8080/"
        },
        "id": "42LWjHaImI_v",
        "outputId": "1fa634a7-1b1b-4727-ba24-f89177841ef7"
      },
      "execution_count": null,
      "outputs": [
        {
          "output_type": "execute_result",
          "data": {
            "text/plain": [
              "(225711, 78)"
            ]
          },
          "metadata": {},
          "execution_count": 256
        }
      ]
    },
    {
      "cell_type": "code",
      "source": [
        "# scaling the dataset\n",
        "cicids_scaler = MinMaxScaler()\n",
        "cicids_scaled = pd.DataFrame(cicids_scaler.fit_transform(cicids_X), columns = cicids_X.columns)"
      ],
      "metadata": {
        "id": "_uyFjKyxbA7V"
      },
      "execution_count": null,
      "outputs": []
    },
    {
      "cell_type": "code",
      "source": [
        "cicids_scaled.head()"
      ],
      "metadata": {
        "colab": {
          "base_uri": "https://localhost:8080/"
        },
        "id": "FQZXIG0vfAYr",
        "outputId": "91b16207-4463-4162-fbf0-f69c520be3f5"
      },
      "execution_count": null,
      "outputs": [
        {
          "output_type": "execute_result",
          "data": {
            "text/html": [
              "<div>\n",
              "<style scoped>\n",
              "    .dataframe tbody tr th:only-of-type {\n",
              "        vertical-align: middle;\n",
              "    }\n",
              "\n",
              "    .dataframe tbody tr th {\n",
              "        vertical-align: top;\n",
              "    }\n",
              "\n",
              "    .dataframe thead th {\n",
              "        text-align: right;\n",
              "    }\n",
              "</style>\n",
              "<table border=\"1\" class=\"dataframe\">\n",
              "  <thead>\n",
              "    <tr style=\"text-align: right;\">\n",
              "      <th></th>\n",
              "      <th>Destination Port</th>\n",
              "      <th>Flow Duration</th>\n",
              "      <th>Total Fwd Packets</th>\n",
              "      <th>Total Backward Packets</th>\n",
              "      <th>Total Length of Fwd Packets</th>\n",
              "      <th>Total Length of Bwd Packets</th>\n",
              "      <th>Fwd Packet Length Max</th>\n",
              "      <th>Fwd Packet Length Min</th>\n",
              "      <th>Fwd Packet Length Mean</th>\n",
              "      <th>Fwd Packet Length Std</th>\n",
              "      <th>Bwd Packet Length Max</th>\n",
              "      <th>Bwd Packet Length Min</th>\n",
              "      <th>Bwd Packet Length Mean</th>\n",
              "      <th>Bwd Packet Length Std</th>\n",
              "      <th>Flow Bytes/s</th>\n",
              "      <th>Flow Packets/s</th>\n",
              "      <th>Flow IAT Mean</th>\n",
              "      <th>Flow IAT Std</th>\n",
              "      <th>Flow IAT Max</th>\n",
              "      <th>Flow IAT Min</th>\n",
              "      <th>Fwd IAT Total</th>\n",
              "      <th>Fwd IAT Mean</th>\n",
              "      <th>Fwd IAT Std</th>\n",
              "      <th>Fwd IAT Max</th>\n",
              "      <th>Fwd IAT Min</th>\n",
              "      <th>Bwd IAT Total</th>\n",
              "      <th>Bwd IAT Mean</th>\n",
              "      <th>Bwd IAT Std</th>\n",
              "      <th>Bwd IAT Max</th>\n",
              "      <th>Bwd IAT Min</th>\n",
              "      <th>Fwd PSH Flags</th>\n",
              "      <th>Bwd PSH Flags</th>\n",
              "      <th>Fwd URG Flags</th>\n",
              "      <th>Bwd URG Flags</th>\n",
              "      <th>Fwd Header Length</th>\n",
              "      <th>Bwd Header Length</th>\n",
              "      <th>Fwd Packets/s</th>\n",
              "      <th>Bwd Packets/s</th>\n",
              "      <th>Min Packet Length</th>\n",
              "      <th>Max Packet Length</th>\n",
              "      <th>Packet Length Mean</th>\n",
              "      <th>Packet Length Std</th>\n",
              "      <th>Packet Length Variance</th>\n",
              "      <th>FIN Flag Count</th>\n",
              "      <th>SYN Flag Count</th>\n",
              "      <th>RST Flag Count</th>\n",
              "      <th>PSH Flag Count</th>\n",
              "      <th>ACK Flag Count</th>\n",
              "      <th>URG Flag Count</th>\n",
              "      <th>CWE Flag Count</th>\n",
              "      <th>ECE Flag Count</th>\n",
              "      <th>Down/Up Ratio</th>\n",
              "      <th>Average Packet Size</th>\n",
              "      <th>Avg Fwd Segment Size</th>\n",
              "      <th>Avg Bwd Segment Size</th>\n",
              "      <th>Fwd Header Length.1</th>\n",
              "      <th>Fwd Avg Bytes/Bulk</th>\n",
              "      <th>Fwd Avg Packets/Bulk</th>\n",
              "      <th>Fwd Avg Bulk Rate</th>\n",
              "      <th>Bwd Avg Bytes/Bulk</th>\n",
              "      <th>Bwd Avg Packets/Bulk</th>\n",
              "      <th>Bwd Avg Bulk Rate</th>\n",
              "      <th>Subflow Fwd Packets</th>\n",
              "      <th>Subflow Fwd Bytes</th>\n",
              "      <th>Subflow Bwd Packets</th>\n",
              "      <th>Subflow Bwd Bytes</th>\n",
              "      <th>Init_Win_bytes_forward</th>\n",
              "      <th>Init_Win_bytes_backward</th>\n",
              "      <th>act_data_pkt_fwd</th>\n",
              "      <th>min_seg_size_forward</th>\n",
              "      <th>Active Mean</th>\n",
              "      <th>Active Std</th>\n",
              "      <th>Active Max</th>\n",
              "      <th>Active Min</th>\n",
              "      <th>Idle Mean</th>\n",
              "      <th>Idle Std</th>\n",
              "      <th>Idle Max</th>\n",
              "      <th>Idle Min</th>\n",
              "    </tr>\n",
              "  </thead>\n",
              "  <tbody>\n",
              "    <tr>\n",
              "      <th>0</th>\n",
              "      <td>0.837225</td>\n",
              "      <td>3.333335e-08</td>\n",
              "      <td>0.000518</td>\n",
              "      <td>0.00000</td>\n",
              "      <td>0.000066</td>\n",
              "      <td>0.000000</td>\n",
              "      <td>0.000514</td>\n",
              "      <td>0.004076</td>\n",
              "      <td>0.001552</td>\n",
              "      <td>0.0</td>\n",
              "      <td>0.000000</td>\n",
              "      <td>0.00000</td>\n",
              "      <td>0.000000</td>\n",
              "      <td>0.0</td>\n",
              "      <td>0.007685</td>\n",
              "      <td>0.533333</td>\n",
              "      <td>3.738318e-08</td>\n",
              "      <td>0.0</td>\n",
              "      <td>3.333333e-08</td>\n",
              "      <td>1.401869e-07</td>\n",
              "      <td>2.500000e-08</td>\n",
              "      <td>2.500000e-08</td>\n",
              "      <td>0.0</td>\n",
              "      <td>2.500000e-08</td>\n",
              "      <td>1.250000e-07</td>\n",
              "      <td>0.0</td>\n",
              "      <td>0.0</td>\n",
              "      <td>0.0</td>\n",
              "      <td>0.0</td>\n",
              "      <td>0.0</td>\n",
              "      <td>0.0</td>\n",
              "      <td>0.0</td>\n",
              "      <td>0.0</td>\n",
              "      <td>0.0</td>\n",
              "      <td>0.001015</td>\n",
              "      <td>0.00000</td>\n",
              "      <td>0.222222</td>\n",
              "      <td>0.000000</td>\n",
              "      <td>0.017804</td>\n",
              "      <td>0.000514</td>\n",
              "      <td>0.003098</td>\n",
              "      <td>0.0</td>\n",
              "      <td>0.0</td>\n",
              "      <td>0.0</td>\n",
              "      <td>0.0</td>\n",
              "      <td>0.0</td>\n",
              "      <td>0.0</td>\n",
              "      <td>1.0</td>\n",
              "      <td>0.0</td>\n",
              "      <td>0.0</td>\n",
              "      <td>0.0</td>\n",
              "      <td>0.000000</td>\n",
              "      <td>0.00356</td>\n",
              "      <td>0.001552</td>\n",
              "      <td>0.000000</td>\n",
              "      <td>0.001015</td>\n",
              "      <td>0.0</td>\n",
              "      <td>0.0</td>\n",
              "      <td>0.0</td>\n",
              "      <td>0.0</td>\n",
              "      <td>0.0</td>\n",
              "      <td>0.0</td>\n",
              "      <td>0.000518</td>\n",
              "      <td>0.000066</td>\n",
              "      <td>0.00000</td>\n",
              "      <td>0.000000</td>\n",
              "      <td>0.000519</td>\n",
              "      <td>0.000000</td>\n",
              "      <td>0.000518</td>\n",
              "      <td>0.384615</td>\n",
              "      <td>0.0</td>\n",
              "      <td>0.0</td>\n",
              "      <td>0.0</td>\n",
              "      <td>0.0</td>\n",
              "      <td>0.0</td>\n",
              "      <td>0.0</td>\n",
              "      <td>0.0</td>\n",
              "      <td>0.0</td>\n",
              "    </tr>\n",
              "    <tr>\n",
              "      <th>1</th>\n",
              "      <td>0.840109</td>\n",
              "      <td>9.166671e-07</td>\n",
              "      <td>0.000000</td>\n",
              "      <td>0.00034</td>\n",
              "      <td>0.000033</td>\n",
              "      <td>0.000001</td>\n",
              "      <td>0.000514</td>\n",
              "      <td>0.004076</td>\n",
              "      <td>0.001552</td>\n",
              "      <td>0.0</td>\n",
              "      <td>0.000514</td>\n",
              "      <td>0.00411</td>\n",
              "      <td>0.001034</td>\n",
              "      <td>0.0</td>\n",
              "      <td>0.005817</td>\n",
              "      <td>0.403670</td>\n",
              "      <td>1.028037e-06</td>\n",
              "      <td>0.0</td>\n",
              "      <td>9.166667e-07</td>\n",
              "      <td>1.130841e-06</td>\n",
              "      <td>0.000000e+00</td>\n",
              "      <td>0.000000e+00</td>\n",
              "      <td>0.0</td>\n",
              "      <td>0.000000e+00</td>\n",
              "      <td>9.999999e-08</td>\n",
              "      <td>0.0</td>\n",
              "      <td>0.0</td>\n",
              "      <td>0.0</td>\n",
              "      <td>0.0</td>\n",
              "      <td>0.0</td>\n",
              "      <td>0.0</td>\n",
              "      <td>0.0</td>\n",
              "      <td>0.0</td>\n",
              "      <td>0.0</td>\n",
              "      <td>0.000508</td>\n",
              "      <td>0.00034</td>\n",
              "      <td>0.003058</td>\n",
              "      <td>0.004587</td>\n",
              "      <td>0.017804</td>\n",
              "      <td>0.000514</td>\n",
              "      <td>0.003098</td>\n",
              "      <td>0.0</td>\n",
              "      <td>0.0</td>\n",
              "      <td>0.0</td>\n",
              "      <td>0.0</td>\n",
              "      <td>0.0</td>\n",
              "      <td>0.0</td>\n",
              "      <td>1.0</td>\n",
              "      <td>1.0</td>\n",
              "      <td>0.0</td>\n",
              "      <td>0.0</td>\n",
              "      <td>0.142857</td>\n",
              "      <td>0.00356</td>\n",
              "      <td>0.001552</td>\n",
              "      <td>0.001034</td>\n",
              "      <td>0.000508</td>\n",
              "      <td>0.0</td>\n",
              "      <td>0.0</td>\n",
              "      <td>0.0</td>\n",
              "      <td>0.0</td>\n",
              "      <td>0.0</td>\n",
              "      <td>0.0</td>\n",
              "      <td>0.000000</td>\n",
              "      <td>0.000033</td>\n",
              "      <td>0.00034</td>\n",
              "      <td>0.000001</td>\n",
              "      <td>0.000458</td>\n",
              "      <td>0.003922</td>\n",
              "      <td>0.000000</td>\n",
              "      <td>0.384615</td>\n",
              "      <td>0.0</td>\n",
              "      <td>0.0</td>\n",
              "      <td>0.0</td>\n",
              "      <td>0.0</td>\n",
              "      <td>0.0</td>\n",
              "      <td>0.0</td>\n",
              "      <td>0.0</td>\n",
              "      <td>0.0</td>\n",
              "    </tr>\n",
              "    <tr>\n",
              "      <th>2</th>\n",
              "      <td>0.840124</td>\n",
              "      <td>4.416669e-07</td>\n",
              "      <td>0.000000</td>\n",
              "      <td>0.00034</td>\n",
              "      <td>0.000033</td>\n",
              "      <td>0.000001</td>\n",
              "      <td>0.000514</td>\n",
              "      <td>0.004076</td>\n",
              "      <td>0.001552</td>\n",
              "      <td>0.0</td>\n",
              "      <td>0.000514</td>\n",
              "      <td>0.00411</td>\n",
              "      <td>0.001034</td>\n",
              "      <td>0.0</td>\n",
              "      <td>0.005875</td>\n",
              "      <td>0.407692</td>\n",
              "      <td>4.953271e-07</td>\n",
              "      <td>0.0</td>\n",
              "      <td>4.416667e-07</td>\n",
              "      <td>5.981308e-07</td>\n",
              "      <td>0.000000e+00</td>\n",
              "      <td>0.000000e+00</td>\n",
              "      <td>0.0</td>\n",
              "      <td>0.000000e+00</td>\n",
              "      <td>9.999999e-08</td>\n",
              "      <td>0.0</td>\n",
              "      <td>0.0</td>\n",
              "      <td>0.0</td>\n",
              "      <td>0.0</td>\n",
              "      <td>0.0</td>\n",
              "      <td>0.0</td>\n",
              "      <td>0.0</td>\n",
              "      <td>0.0</td>\n",
              "      <td>0.0</td>\n",
              "      <td>0.000508</td>\n",
              "      <td>0.00034</td>\n",
              "      <td>0.006410</td>\n",
              "      <td>0.009615</td>\n",
              "      <td>0.017804</td>\n",
              "      <td>0.000514</td>\n",
              "      <td>0.003098</td>\n",
              "      <td>0.0</td>\n",
              "      <td>0.0</td>\n",
              "      <td>0.0</td>\n",
              "      <td>0.0</td>\n",
              "      <td>0.0</td>\n",
              "      <td>0.0</td>\n",
              "      <td>1.0</td>\n",
              "      <td>1.0</td>\n",
              "      <td>0.0</td>\n",
              "      <td>0.0</td>\n",
              "      <td>0.142857</td>\n",
              "      <td>0.00356</td>\n",
              "      <td>0.001552</td>\n",
              "      <td>0.001034</td>\n",
              "      <td>0.000508</td>\n",
              "      <td>0.0</td>\n",
              "      <td>0.0</td>\n",
              "      <td>0.0</td>\n",
              "      <td>0.0</td>\n",
              "      <td>0.0</td>\n",
              "      <td>0.0</td>\n",
              "      <td>0.000000</td>\n",
              "      <td>0.000033</td>\n",
              "      <td>0.00034</td>\n",
              "      <td>0.000001</td>\n",
              "      <td>0.000458</td>\n",
              "      <td>0.003922</td>\n",
              "      <td>0.000000</td>\n",
              "      <td>0.384615</td>\n",
              "      <td>0.0</td>\n",
              "      <td>0.0</td>\n",
              "      <td>0.0</td>\n",
              "      <td>0.0</td>\n",
              "      <td>0.0</td>\n",
              "      <td>0.0</td>\n",
              "      <td>0.0</td>\n",
              "      <td>0.0</td>\n",
              "    </tr>\n",
              "    <tr>\n",
              "      <th>3</th>\n",
              "      <td>0.705548</td>\n",
              "      <td>2.916668e-07</td>\n",
              "      <td>0.000000</td>\n",
              "      <td>0.00034</td>\n",
              "      <td>0.000033</td>\n",
              "      <td>0.000001</td>\n",
              "      <td>0.000514</td>\n",
              "      <td>0.004076</td>\n",
              "      <td>0.001552</td>\n",
              "      <td>0.0</td>\n",
              "      <td>0.000514</td>\n",
              "      <td>0.00411</td>\n",
              "      <td>0.001034</td>\n",
              "      <td>0.0</td>\n",
              "      <td>0.005933</td>\n",
              "      <td>0.411765</td>\n",
              "      <td>3.271028e-07</td>\n",
              "      <td>0.0</td>\n",
              "      <td>2.916667e-07</td>\n",
              "      <td>4.299065e-07</td>\n",
              "      <td>0.000000e+00</td>\n",
              "      <td>0.000000e+00</td>\n",
              "      <td>0.0</td>\n",
              "      <td>0.000000e+00</td>\n",
              "      <td>9.999999e-08</td>\n",
              "      <td>0.0</td>\n",
              "      <td>0.0</td>\n",
              "      <td>0.0</td>\n",
              "      <td>0.0</td>\n",
              "      <td>0.0</td>\n",
              "      <td>0.0</td>\n",
              "      <td>0.0</td>\n",
              "      <td>0.0</td>\n",
              "      <td>0.0</td>\n",
              "      <td>0.000508</td>\n",
              "      <td>0.00034</td>\n",
              "      <td>0.009804</td>\n",
              "      <td>0.014706</td>\n",
              "      <td>0.017804</td>\n",
              "      <td>0.000514</td>\n",
              "      <td>0.003098</td>\n",
              "      <td>0.0</td>\n",
              "      <td>0.0</td>\n",
              "      <td>0.0</td>\n",
              "      <td>0.0</td>\n",
              "      <td>0.0</td>\n",
              "      <td>0.0</td>\n",
              "      <td>1.0</td>\n",
              "      <td>1.0</td>\n",
              "      <td>0.0</td>\n",
              "      <td>0.0</td>\n",
              "      <td>0.142857</td>\n",
              "      <td>0.00356</td>\n",
              "      <td>0.001552</td>\n",
              "      <td>0.001034</td>\n",
              "      <td>0.000508</td>\n",
              "      <td>0.0</td>\n",
              "      <td>0.0</td>\n",
              "      <td>0.0</td>\n",
              "      <td>0.0</td>\n",
              "      <td>0.0</td>\n",
              "      <td>0.0</td>\n",
              "      <td>0.000000</td>\n",
              "      <td>0.000033</td>\n",
              "      <td>0.00034</td>\n",
              "      <td>0.000001</td>\n",
              "      <td>0.000488</td>\n",
              "      <td>0.005035</td>\n",
              "      <td>0.000000</td>\n",
              "      <td>0.384615</td>\n",
              "      <td>0.0</td>\n",
              "      <td>0.0</td>\n",
              "      <td>0.0</td>\n",
              "      <td>0.0</td>\n",
              "      <td>0.0</td>\n",
              "      <td>0.0</td>\n",
              "      <td>0.0</td>\n",
              "      <td>0.0</td>\n",
              "    </tr>\n",
              "    <tr>\n",
              "      <th>4</th>\n",
              "      <td>0.837194</td>\n",
              "      <td>3.333335e-08</td>\n",
              "      <td>0.000518</td>\n",
              "      <td>0.00000</td>\n",
              "      <td>0.000066</td>\n",
              "      <td>0.000000</td>\n",
              "      <td>0.000514</td>\n",
              "      <td>0.004076</td>\n",
              "      <td>0.001552</td>\n",
              "      <td>0.0</td>\n",
              "      <td>0.000000</td>\n",
              "      <td>0.00000</td>\n",
              "      <td>0.000000</td>\n",
              "      <td>0.0</td>\n",
              "      <td>0.007685</td>\n",
              "      <td>0.533333</td>\n",
              "      <td>3.738318e-08</td>\n",
              "      <td>0.0</td>\n",
              "      <td>3.333333e-08</td>\n",
              "      <td>1.401869e-07</td>\n",
              "      <td>2.500000e-08</td>\n",
              "      <td>2.500000e-08</td>\n",
              "      <td>0.0</td>\n",
              "      <td>2.500000e-08</td>\n",
              "      <td>1.250000e-07</td>\n",
              "      <td>0.0</td>\n",
              "      <td>0.0</td>\n",
              "      <td>0.0</td>\n",
              "      <td>0.0</td>\n",
              "      <td>0.0</td>\n",
              "      <td>0.0</td>\n",
              "      <td>0.0</td>\n",
              "      <td>0.0</td>\n",
              "      <td>0.0</td>\n",
              "      <td>0.001015</td>\n",
              "      <td>0.00000</td>\n",
              "      <td>0.222222</td>\n",
              "      <td>0.000000</td>\n",
              "      <td>0.017804</td>\n",
              "      <td>0.000514</td>\n",
              "      <td>0.003098</td>\n",
              "      <td>0.0</td>\n",
              "      <td>0.0</td>\n",
              "      <td>0.0</td>\n",
              "      <td>0.0</td>\n",
              "      <td>0.0</td>\n",
              "      <td>0.0</td>\n",
              "      <td>1.0</td>\n",
              "      <td>0.0</td>\n",
              "      <td>0.0</td>\n",
              "      <td>0.0</td>\n",
              "      <td>0.000000</td>\n",
              "      <td>0.00356</td>\n",
              "      <td>0.001552</td>\n",
              "      <td>0.000000</td>\n",
              "      <td>0.001015</td>\n",
              "      <td>0.0</td>\n",
              "      <td>0.0</td>\n",
              "      <td>0.0</td>\n",
              "      <td>0.0</td>\n",
              "      <td>0.0</td>\n",
              "      <td>0.0</td>\n",
              "      <td>0.000518</td>\n",
              "      <td>0.000066</td>\n",
              "      <td>0.00000</td>\n",
              "      <td>0.000000</td>\n",
              "      <td>0.000504</td>\n",
              "      <td>0.000000</td>\n",
              "      <td>0.000518</td>\n",
              "      <td>0.384615</td>\n",
              "      <td>0.0</td>\n",
              "      <td>0.0</td>\n",
              "      <td>0.0</td>\n",
              "      <td>0.0</td>\n",
              "      <td>0.0</td>\n",
              "      <td>0.0</td>\n",
              "      <td>0.0</td>\n",
              "      <td>0.0</td>\n",
              "    </tr>\n",
              "  </tbody>\n",
              "</table>\n",
              "</div>"
            ],
            "text/plain": [
              "   Destination Port  Flow Duration  ...  Idle Max  Idle Min\n",
              "0          0.837225   3.333335e-08  ...       0.0       0.0\n",
              "1          0.840109   9.166671e-07  ...       0.0       0.0\n",
              "2          0.840124   4.416669e-07  ...       0.0       0.0\n",
              "3          0.705548   2.916668e-07  ...       0.0       0.0\n",
              "4          0.837194   3.333335e-08  ...       0.0       0.0\n",
              "\n",
              "[5 rows x 78 columns]"
            ]
          },
          "metadata": {},
          "execution_count": 258
        }
      ]
    },
    {
      "cell_type": "code",
      "source": [
        "X_train_cicids, X_test_cicids, y_train_cicids, y_test_cicids = train_test_split(cicids_scaled, cicids_y, train_size=0.8, random_state=42, stratify=cicids_y)\n",
        "X_train_cicids, X_val_cicids, y_train_cicids, y_val_cicids = train_test_split(X_train_cicids, y_train_cicids, train_size=0.9, random_state=42, stratify=y_train_cicids)\n"
      ],
      "metadata": {
        "id": "9vntTumYfC23"
      },
      "execution_count": null,
      "outputs": []
    },
    {
      "cell_type": "markdown",
      "source": [
        "## Testing all features on the models"
      ],
      "metadata": {
        "id": "EajFEai1gdRg"
      }
    },
    {
      "cell_type": "code",
      "source": [
        "cicids_fs_before = []"
      ],
      "metadata": {
        "id": "qy0QV7zpfTDD"
      },
      "execution_count": null,
      "outputs": []
    },
    {
      "cell_type": "markdown",
      "source": [
        "### MLPClassifier"
      ],
      "metadata": {
        "id": "rr8-Ir-0fV7D"
      }
    },
    {
      "cell_type": "code",
      "source": [
        "parameter_space = {\n",
        "    'hidden_layer_sizes': [(100,200),(100,)],\n",
        "    'solver': ['sgd', 'adam'],\n",
        "    'alpha': [0.0001, 0.05]\n",
        "}\n",
        "\n",
        "mlp_clf = MLPClassifier(random_state = 42, max_iter = 100)\n",
        "# Build the grid search\n",
        "grid_MLP = GridSearchCV(estimator=mlp_clf, param_grid=parameter_space, cv = 5, n_jobs=-1)\n",
        "grid_results = grid_MLP.fit(X_val_cicids, y_val_cicids)\n",
        "\n",
        "grid_results.best_params_, grid_results.best_score_"
      ],
      "metadata": {
        "colab": {
          "base_uri": "https://localhost:8080/"
        },
        "id": "-lbKMYf0-Jwy",
        "outputId": "898d3e5e-d950-4c2c-ca3c-39dfd1582421"
      },
      "execution_count": null,
      "outputs": [
        {
          "output_type": "execute_result",
          "data": {
            "text/plain": [
              "({'alpha': 0.0001, 'hidden_layer_sizes': (100,), 'solver': 'adam'},\n",
              " 0.9989477825998019)"
            ]
          },
          "metadata": {},
          "execution_count": 41
        }
      ]
    },
    {
      "cell_type": "code",
      "source": [
        "# first the mlp classifier\n",
        "\n",
        "mlp_clf = MLPClassifier(random_state = 42, max_iter = 100, hidden_layer_sizes = (100, ), alpha= 0.0001, solver='adam')\n",
        "\n",
        "mlp_clf.fit(X_train_cicids, y_train_cicids)\n",
        "\n",
        "y_pred = mlp_clf.predict(X_test_cicids)\n",
        "\n",
        "print(classification_report(y_test_cicids, y_pred))\n",
        "\n",
        "F1_mlp = f1_score(y_test_cicids, y_pred)\n",
        "\n",
        "cicids_fs_before.append(['MLP', F1_mlp])\n",
        "\n",
        "evaluate_model(mlp_clf, X_test_cicids, y_test_cicids, 'MLP before Feature selection')"
      ],
      "metadata": {
        "colab": {
          "base_uri": "https://localhost:8080/",
          "height": 839
        },
        "id": "AtShQxPDgqpO",
        "outputId": "5ef0163c-20cb-4de9-f090-61cfea7035a2"
      },
      "execution_count": null,
      "outputs": [
        {
          "output_type": "stream",
          "name": "stdout",
          "text": [
            "              precision    recall  f1-score   support\n",
            "\n",
            "           0       1.00      1.00      1.00     19538\n",
            "           1       1.00      1.00      1.00     25605\n",
            "\n",
            "    accuracy                           1.00     45143\n",
            "   macro avg       1.00      1.00      1.00     45143\n",
            "weighted avg       1.00      1.00      1.00     45143\n",
            "\n"
          ]
        },
        {
          "output_type": "display_data",
          "data": {
            "image/png": "[encoded data removed]",
            "text/plain": [
              "<Figure size 864x864 with 2 Axes>"
            ]
          },
          "metadata": {
            "needs_background": "light"
          }
        }
      ]
    },
    {
      "cell_type": "code",
      "source": [
        "# second the multinomial naive bayes\n",
        "\n",
        "nb_clf = MultinomialNB()\n",
        "\n",
        "nb_clf.fit(X_train_cicids, y_train_cicids)\n",
        "\n",
        "y_pred = nb_clf.predict(X_test_cicids)\n",
        "\n",
        "print(classification_report(y_test_cicids, y_pred))\n",
        "\n",
        "\n",
        "evaluate_model(nb_clf, X_test_cicids, y_test_cicids, 'NB before Feature selection')\n",
        "\n",
        "F1_NB = f1_score(y_test_cicids, y_pred)\n",
        "\n",
        "cicids_fs_before.append(['NB', F1_NB])"
      ],
      "metadata": {
        "colab": {
          "base_uri": "https://localhost:8080/",
          "height": 839
        },
        "id": "QSu7O6xFgnLW",
        "outputId": "f8c7f2e2-55ad-4814-e124-b94eda75db2f"
      },
      "execution_count": null,
      "outputs": [
        {
          "output_type": "stream",
          "name": "stdout",
          "text": [
            "              precision    recall  f1-score   support\n",
            "\n",
            "           0       0.83      0.93      0.87     19538\n",
            "           1       0.94      0.85      0.89     25605\n",
            "\n",
            "    accuracy                           0.89     45143\n",
            "   macro avg       0.88      0.89      0.88     45143\n",
            "weighted avg       0.89      0.89      0.89     45143\n",
            "\n"
          ]
        },
        {
          "output_type": "display_data",
          "data": {
            "image/png": "[encoded data removed]",
            "text/plain": [
              "<Figure size 864x864 with 2 Axes>"
            ]
          },
          "metadata": {
            "needs_background": "light"
          }
        }
      ]
    },
    {
      "cell_type": "code",
      "source": [
        "param_grid = {'C': [0.1,1, 10, 100], \n",
        "              'gamma': [1,0.1,0.01,0.001]}\n",
        "\n",
        "svm_clf = SVC(random_state = 42)\n",
        "# Build the grid search\n",
        "grid_svm = GridSearchCV(estimator=svm_clf, param_grid=param_grid, cv = 5, n_jobs=-1)\n",
        "grid_results = grid_svm.fit(X_val_cicids, y_val_cicids)\n",
        "\n",
        "grid_results.best_params_, grid_results.best_score_"
      ],
      "metadata": {
        "colab": {
          "base_uri": "https://localhost:8080/"
        },
        "id": "wReNH3Ng-exK",
        "outputId": "12c362a2-70b6-42aa-948e-efefeeffdbed"
      },
      "execution_count": null,
      "outputs": [
        {
          "output_type": "execute_result",
          "data": {
            "text/plain": [
              "({'C': 100, 'gamma': 1}, 0.9936868949404933)"
            ]
          },
          "metadata": {},
          "execution_count": 45
        }
      ]
    },
    {
      "cell_type": "code",
      "source": [
        "# third the SVM model\n",
        "\n",
        "svm_clf = SVC(random_state = 42, C=100, gamma=1)\n",
        "\n",
        "svm_clf.fit(X_train_cicids, y_train_cicids)\n",
        "\n",
        "y_pred = svm_clf.predict(X_test_cicids)\n",
        "\n",
        "print(classification_report(y_test_cicids, y_pred))\n",
        "\n",
        "F1_SVM = f1_score(y_test_cicids, y_pred)\n",
        "\n",
        "cicids_fs_before.append(['SVM', F1_SVM])\n",
        "\n",
        "evaluate_model(svm_clf, X_test_cicids, y_test_cicids, 'SVM before Feature selection')"
      ],
      "metadata": {
        "colab": {
          "base_uri": "https://localhost:8080/",
          "height": 839
        },
        "id": "k_z9TRIJgkT-",
        "outputId": "f5fd967b-81b9-46db-ae37-7a7c5c03eb39"
      },
      "execution_count": null,
      "outputs": [
        {
          "output_type": "stream",
          "name": "stdout",
          "text": [
            "              precision    recall  f1-score   support\n",
            "\n",
            "           0       1.00      1.00      1.00     19538\n",
            "           1       1.00      1.00      1.00     25605\n",
            "\n",
            "    accuracy                           1.00     45143\n",
            "   macro avg       1.00      1.00      1.00     45143\n",
            "weighted avg       1.00      1.00      1.00     45143\n",
            "\n"
          ]
        },
        {
          "output_type": "display_data",
          "data": {
            "image/png": "[encoded data removed]",
            "text/plain": [
              "<Figure size 864x864 with 2 Axes>"
            ]
          },
          "metadata": {
            "needs_background": "light"
          }
        }
      ]
    },
    {
      "cell_type": "code",
      "source": [
        "n_estimators = [64, 100, 128, 200]\n",
        "max_depth = [2, 4, 6, 8, 10, None]\n",
        "param_grid = dict(n_estimators=n_estimators, max_depth=max_depth)\n",
        "\n",
        "# Build the grid search\n",
        "rf_grid = RandomForestClassifier(n_estimators=n_estimators, max_depth=max_depth, random_state=42)\n",
        "grid = GridSearchCV(estimator=rf_grid, param_grid=param_grid, cv = 5, n_jobs=-1)\n",
        "grid_results = grid.fit(X_val_cicids, y_val_cicids)\n",
        "\n",
        "grid_results.best_params_, grid_results.best_score_"
      ],
      "metadata": {
        "colab": {
          "base_uri": "https://localhost:8080/"
        },
        "id": "ajUTrrd2-gmi",
        "outputId": "93e25843-f5f7-4722-a858-7648571515fa"
      },
      "execution_count": null,
      "outputs": [
        {
          "output_type": "execute_result",
          "data": {
            "text/plain": [
              "({'max_depth': None, 'n_estimators': 100}, 0.9996677280844523)"
            ]
          },
          "metadata": {},
          "execution_count": 46
        }
      ]
    },
    {
      "cell_type": "code",
      "source": [
        "# fourth the random forest classifier\n",
        "\n",
        "rf_clf = RandomForestClassifier(random_state = 42, n_estimators=100, max_depth=None)\n",
        "\n",
        "rf_clf.fit(X_train_cicids, y_train_cicids)\n",
        "\n",
        "y_pred = rf_clf.predict(X_test_cicids)\n",
        "\n",
        "print(classification_report(y_test_cicids, y_pred))\n",
        "\n",
        "F1_RF = f1_score(y_test_cicids, y_pred)\n",
        "\n",
        "cicids_fs_before.append(['RF', F1_RF])\n",
        "\n",
        "evaluate_model(rf_clf, X_test_cicids, y_test_cicids, 'RF before Feature selection')"
      ],
      "metadata": {
        "colab": {
          "base_uri": "https://localhost:8080/",
          "height": 839
        },
        "id": "28C7Zspvf8jo",
        "outputId": "e749e205-81bb-4f19-c1a2-05318310c9b6"
      },
      "execution_count": null,
      "outputs": [
        {
          "output_type": "stream",
          "name": "stdout",
          "text": [
            "              precision    recall  f1-score   support\n",
            "\n",
            "           0       1.00      1.00      1.00     19538\n",
            "           1       1.00      1.00      1.00     25605\n",
            "\n",
            "    accuracy                           1.00     45143\n",
            "   macro avg       1.00      1.00      1.00     45143\n",
            "weighted avg       1.00      1.00      1.00     45143\n",
            "\n"
          ]
        },
        {
          "output_type": "display_data",
          "data": {
            "image/png": "[encoded data removed]",
            "text/plain": [
              "<Figure size 864x864 with 2 Axes>"
            ]
          },
          "metadata": {
            "needs_background": "light"
          }
        }
      ]
    },
    {
      "cell_type": "code",
      "source": [
        "cicids_fs_before"
      ],
      "metadata": {
        "colab": {
          "base_uri": "https://localhost:8080/"
        },
        "id": "zql1qUedjeFL",
        "outputId": "ce8680e1-4d2c-46e8-8b24-dd38b9960808"
      },
      "execution_count": null,
      "outputs": [
        {
          "output_type": "execute_result",
          "data": {
            "text/plain": [
              "[['MLP', 0.9874599683605355],\n",
              " ['MLP', 0.9996094817823252],\n",
              " ['NB', 0.8937826487759911],\n",
              " ['SVM', 0.9981473897696913],\n",
              " ['RF', 0.9999218872051242]]"
            ]
          },
          "metadata": {},
          "execution_count": 23
        }
      ]
    },
    {
      "cell_type": "code",
      "source": [
        "plotModels(cicids_fs_before, 'Before Feature Selection', 'Models', 'F1-SCORE')"
      ],
      "metadata": {
        "colab": {
          "base_uri": "https://localhost:8080/",
          "height": 295
        },
        "id": "r4iJv-gchDfr",
        "outputId": "80be95f5-bac9-4dcc-9e8c-adc156b2e405"
      },
      "execution_count": null,
      "outputs": [
        {
          "output_type": "display_data",
          "data": {
            "image/png": "[encoded data removed]",
            "text/plain": [
              "<Figure size 432x288 with 1 Axes>"
            ]
          },
          "metadata": {
            "needs_background": "light"
          }
        }
      ]
    },
    {
      "cell_type": "markdown",
      "source": [
        "## Now using the Genetic Algorithm for feature selection"
      ],
      "metadata": {
        "id": "5uMpiu7NiosZ"
      }
    },
    {
      "cell_type": "code",
      "source": [
        "initial_population_cicids = [[random.randint(0, 1) for i in range(78)] for i in range(20)]"
      ],
      "metadata": {
        "id": "ms_dIXl4ioJY"
      },
      "execution_count": null,
      "outputs": []
    },
    {
      "cell_type": "code",
      "source": [
        "fittest_cicids = run_ga(initial_population, 10, num_of_features = 78,\n",
        "                 X_train = X_train_cicids, y_train = y_train_cicids, X_test = X_test_cicids, y_test = y_test_cicids, mutation_rate = 5)   \n",
        "# using default mutation which is one in each thousand"
      ],
      "metadata": {
        "id": "ig58F6vCmXTu"
      },
      "execution_count": null,
      "outputs": []
    },
    {
      "cell_type": "code",
      "source": [
        "%matplotlib inline\n",
        "fitness_cicids = [ind[1] for ind in fittest_cicids]\n",
        "sns.lineplot(y=fitness_cicids, x=range(20))"
      ],
      "metadata": {
        "id": "lPBSlXahmq9U"
      },
      "execution_count": null,
      "outputs": []
    },
    {
      "cell_type": "code",
      "source": [
        "for item in fittest_cicids[:-1]:\n",
        "    if item[1] == max(fitness_cicids):\n",
        "        top_performer_cicids = item\n",
        "        break"
      ],
      "metadata": {
        "id": "SqD_4XLOmzY-"
      },
      "execution_count": null,
      "outputs": []
    },
    {
      "cell_type": "code",
      "source": [
        "print(\"Total features included: \" + str(top_performer[0].count(1)))"
      ],
      "metadata": {
        "id": "JnFASxRBnBaV"
      },
      "execution_count": null,
      "outputs": []
    },
    {
      "cell_type": "code",
      "source": [
        "included_columns_cicids = [column for (column, binary_value) in zip(X_train_cicids.columns, top_performer_cicids[0]) if binary_value]\n",
        "excluded_columns_cicids = [column for (column, binary_value) in zip(X_train_cicids.columns, top_performer_cicids[0]) if not binary_value]"
      ],
      "metadata": {
        "id": "fnhBJsXTnKCr"
      },
      "execution_count": null,
      "outputs": []
    },
    {
      "cell_type": "code",
      "source": [
        "included_columns_cicids "
      ],
      "metadata": {
        "id": "gm6lK544nWxK"
      },
      "execution_count": null,
      "outputs": []
    },
    {
      "cell_type": "code",
      "source": [
        "excluded_columns_cicids"
      ],
      "metadata": {
        "id": "Wtd8HzkGne07"
      },
      "execution_count": null,
      "outputs": []
    },
    {
      "cell_type": "markdown",
      "source": [
        "## Feature Selection using Entropy"
      ],
      "metadata": {
        "id": "EHgwhBZoQ_cu"
      }
    },
    {
      "cell_type": "code",
      "source": [
        "cicids_temp = cicids_dataset\n",
        "cicids_temp = cicids_temp.rename(columns={'Label': 'class'})\n",
        "df_entropy_binary = get_entropy(cicids_temp)\n",
        "print(df_entropy_binary)"
      ],
      "metadata": {
        "colab": {
          "base_uri": "https://localhost:8080/"
        },
        "id": "jJzHHNuJRFbq",
        "outputId": "5fc6b62f-8cc0-4a6b-ca21-b9e36c424194"
      },
      "execution_count": null,
      "outputs": [
        {
          "output_type": "stream",
          "name": "stdout",
          "text": [
            "                 feature    entropy\n",
            "15        Flow Packets/s  16.943824\n",
            "16         Flow IAT Mean  16.940865\n",
            "14          Flow Bytes/s  16.937610\n",
            "36         Fwd Packets/s  16.923648\n",
            "1          Flow Duration  16.911879\n",
            "..                   ...        ...\n",
            "56    Fwd Avg Bytes/Bulk  -0.000000\n",
            "57  Fwd Avg Packets/Bulk  -0.000000\n",
            "58     Fwd Avg Bulk Rate  -0.000000\n",
            "59    Bwd Avg Bytes/Bulk  -0.000000\n",
            "78                 class  -0.000000\n",
            "\n",
            "[79 rows x 2 columns]\n"
          ]
        }
      ]
    },
    {
      "cell_type": "code",
      "source": [
        "selected_features_df = df_entropy_binary.loc[df_entropy_binary['entropy'] > 0]\n",
        "selected_features_df"
      ],
      "metadata": {
        "colab": {
          "base_uri": "https://localhost:8080/",
          "height": 419
        },
        "id": "QVlzN-YyTI-M",
        "outputId": "848ae786-27c8-4011-a746-763750ae2623"
      },
      "execution_count": null,
      "outputs": [
        {
          "output_type": "execute_result",
          "data": {
            "text/html": [
              "<div>\n",
              "<style scoped>\n",
              "    .dataframe tbody tr th:only-of-type {\n",
              "        vertical-align: middle;\n",
              "    }\n",
              "\n",
              "    .dataframe tbody tr th {\n",
              "        vertical-align: top;\n",
              "    }\n",
              "\n",
              "    .dataframe thead th {\n",
              "        text-align: right;\n",
              "    }\n",
              "</style>\n",
              "<table border=\"1\" class=\"dataframe\">\n",
              "  <thead>\n",
              "    <tr style=\"text-align: right;\">\n",
              "      <th></th>\n",
              "      <th>feature</th>\n",
              "      <th>entropy</th>\n",
              "    </tr>\n",
              "  </thead>\n",
              "  <tbody>\n",
              "    <tr>\n",
              "      <th>15</th>\n",
              "      <td>Flow Packets/s</td>\n",
              "      <td>16.943824</td>\n",
              "    </tr>\n",
              "    <tr>\n",
              "      <th>16</th>\n",
              "      <td>Flow IAT Mean</td>\n",
              "      <td>16.940865</td>\n",
              "    </tr>\n",
              "    <tr>\n",
              "      <th>14</th>\n",
              "      <td>Flow Bytes/s</td>\n",
              "      <td>16.937610</td>\n",
              "    </tr>\n",
              "    <tr>\n",
              "      <th>36</th>\n",
              "      <td>Fwd Packets/s</td>\n",
              "      <td>16.923648</td>\n",
              "    </tr>\n",
              "    <tr>\n",
              "      <th>1</th>\n",
              "      <td>Flow Duration</td>\n",
              "      <td>16.911879</td>\n",
              "    </tr>\n",
              "    <tr>\n",
              "      <th>...</th>\n",
              "      <td>...</td>\n",
              "      <td>...</td>\n",
              "    </tr>\n",
              "    <tr>\n",
              "      <th>67</th>\n",
              "      <td>Init_Win_bytes_backward</td>\n",
              "      <td>0.945872</td>\n",
              "    </tr>\n",
              "    <tr>\n",
              "      <th>11</th>\n",
              "      <td>Bwd Packet Length Min</td>\n",
              "      <td>0.025201</td>\n",
              "    </tr>\n",
              "    <tr>\n",
              "      <th>43</th>\n",
              "      <td>FIN Flag Count</td>\n",
              "      <td>0.002880</td>\n",
              "    </tr>\n",
              "    <tr>\n",
              "      <th>0</th>\n",
              "      <td>Destination Port</td>\n",
              "      <td>0.000431</td>\n",
              "    </tr>\n",
              "    <tr>\n",
              "      <th>48</th>\n",
              "      <td>URG Flag Count</td>\n",
              "      <td>0.000394</td>\n",
              "    </tr>\n",
              "  </tbody>\n",
              "</table>\n",
              "<p>62 rows × 2 columns</p>\n",
              "</div>"
            ],
            "text/plain": [
              "                    feature    entropy\n",
              "15           Flow Packets/s  16.943824\n",
              "16            Flow IAT Mean  16.940865\n",
              "14             Flow Bytes/s  16.937610\n",
              "36            Fwd Packets/s  16.923648\n",
              "1             Flow Duration  16.911879\n",
              "..                      ...        ...\n",
              "67  Init_Win_bytes_backward   0.945872\n",
              "11    Bwd Packet Length Min   0.025201\n",
              "43           FIN Flag Count   0.002880\n",
              "0          Destination Port   0.000431\n",
              "48           URG Flag Count   0.000394\n",
              "\n",
              "[62 rows x 2 columns]"
            ]
          },
          "metadata": {},
          "execution_count": 38
        }
      ]
    },
    {
      "cell_type": "code",
      "source": [
        "selected_features = selected_features_df[\"feature\"].tolist()\n",
        "X_train_fs = X_train_cicids[selected_features]\n",
        "X_test_fs = X_test_cicids[selected_features]"
      ],
      "metadata": {
        "id": "xsnoa_u7TZqb"
      },
      "execution_count": null,
      "outputs": []
    },
    {
      "cell_type": "markdown",
      "source": [
        "### Now, testing after applying feature selection"
      ],
      "metadata": {
        "id": "BUe9DvoMbBPf"
      }
    },
    {
      "cell_type": "code",
      "source": [
        "# first the mlp classifier\n",
        "after_fors=[]\n",
        "mlp_clf = MLPClassifier(random_state = 42, max_iter = 1000, hidden_layer_sizes = (100, 200), alpha= 0.0001, solver='adam')\n",
        "\n",
        "mlp_clf.fit(X_train_fs, y_train_cicids)\n",
        "\n",
        "y_pred = mlp_clf.predict(X_test_fs)\n",
        "\n",
        "print(classification_report(y_test_cicids, y_pred))\n",
        "\n",
        "F1_mlp = f1_score(y_test_cicids, y_pred, average='weighted')\n",
        "after_fors.append(['MLP', F1_mlp])\n",
        "\n",
        "evaluate_model(mlp_clf, X_test_fs, y_test_cicids, 'MLP after Forward Feature selection')"
      ],
      "metadata": {
        "colab": {
          "base_uri": "https://localhost:8080/",
          "height": 836
        },
        "outputId": "f6e0f378-0a21-4c2b-93cb-d234e6021606",
        "id": "OMzRPOypbBPf"
      },
      "execution_count": null,
      "outputs": [
        {
          "output_type": "stream",
          "name": "stdout",
          "text": [
            "              precision    recall  f1-score   support\n",
            "\n",
            "           0       1.00      1.00      1.00     19538\n",
            "           1       1.00      1.00      1.00     25605\n",
            "\n",
            "    accuracy                           1.00     45143\n",
            "   macro avg       1.00      1.00      1.00     45143\n",
            "weighted avg       1.00      1.00      1.00     45143\n",
            "\n"
          ]
        },
        {
          "output_type": "display_data",
          "data": {
            "image/png": "[encoded data removed]",
            "text/plain": [
              "<Figure size 864x864 with 2 Axes>"
            ]
          },
          "metadata": {
            "needs_background": "light"
          }
        }
      ]
    },
    {
      "cell_type": "code",
      "source": [
        "# second the multinomial naive bayes\n",
        "\n",
        "nb_clf = MultinomialNB()\n",
        "\n",
        "nb_clf.fit(X_train_fs, y_train_cicids)\n",
        "\n",
        "y_pred = nb_clf.predict(X_test_fs)\n",
        "\n",
        "print(classification_report(y_test_cicids, y_pred))\n",
        "\n",
        "evaluate_model(nb_clf, X_test_fs, y_test_cicids, 'NB after Forward Feature selection')\n",
        "\n",
        "F1_NB = f1_score(y_test_cicids, y_pred, average='weighted')\n",
        "\n",
        "after_fors.append(['NB', F1_NB])\n"
      ],
      "metadata": {
        "colab": {
          "base_uri": "https://localhost:8080/",
          "height": 836
        },
        "outputId": "335779cd-3b65-4132-90ba-020f09b76251",
        "id": "xiLZozTtbBPf"
      },
      "execution_count": null,
      "outputs": [
        {
          "output_type": "stream",
          "name": "stdout",
          "text": [
            "              precision    recall  f1-score   support\n",
            "\n",
            "           0       0.94      0.93      0.93     19538\n",
            "           1       0.94      0.95      0.95     25605\n",
            "\n",
            "    accuracy                           0.94     45143\n",
            "   macro avg       0.94      0.94      0.94     45143\n",
            "weighted avg       0.94      0.94      0.94     45143\n",
            "\n"
          ]
        },
        {
          "output_type": "display_data",
          "data": {
            "image/png": "[encoded data removed]",
            "text/plain": [
              "<Figure size 864x864 with 2 Axes>"
            ]
          },
          "metadata": {
            "needs_background": "light"
          }
        }
      ]
    },
    {
      "cell_type": "code",
      "source": [
        "# third the SVM model\n",
        "\n",
        "svm_clf = SVC(random_state = 42, C=100, gamma=1)\n",
        "\n",
        "svm_clf.fit(X_train_fs, y_train_cicids)\n",
        "\n",
        "y_pred = svm_clf.predict(X_test_fs)\n",
        "\n",
        "print(classification_report(y_test_cicids, y_pred))\n",
        "\n",
        "F1_SVM = f1_score(y_test_cicids, y_pred, average='weighted')\n",
        "\n",
        "after_fors.append(['SVM', F1_SVM])\n",
        "\n",
        "evaluate_model(svm_clf, X_test_fs, y_test_cicids, 'SVM after Forward Feature selection')"
      ],
      "metadata": {
        "colab": {
          "base_uri": "https://localhost:8080/",
          "height": 836
        },
        "outputId": "47333773-c1e5-4f79-f830-ef1c77a24275",
        "id": "f2ilJQrabBPg"
      },
      "execution_count": null,
      "outputs": [
        {
          "output_type": "stream",
          "name": "stdout",
          "text": [
            "              precision    recall  f1-score   support\n",
            "\n",
            "           0       1.00      1.00      1.00     19538\n",
            "           1       1.00      1.00      1.00     25605\n",
            "\n",
            "    accuracy                           1.00     45143\n",
            "   macro avg       1.00      1.00      1.00     45143\n",
            "weighted avg       1.00      1.00      1.00     45143\n",
            "\n"
          ]
        },
        {
          "output_type": "display_data",
          "data": {
            "image/png": "[encoded data removed]",
            "text/plain": [
              "<Figure size 864x864 with 2 Axes>"
            ]
          },
          "metadata": {
            "needs_background": "light"
          }
        }
      ]
    },
    {
      "cell_type": "code",
      "source": [
        "# fourth the random forest classifier\n",
        "\n",
        "rf_clf = RandomForestClassifier(random_state = 42, n_estimators=128, max_depth=None)\n",
        "\n",
        "rf_clf.fit(X_train_fs, y_train_cicids)\n",
        "\n",
        "y_pred = rf_clf.predict(X_test_fs)\n",
        "\n",
        "print(classification_report(y_test_cicids, y_pred))\n",
        "\n",
        "F1_RF = f1_score(y_test_cicids, y_pred, average='weighted')\n",
        "\n",
        "after_fors.append(['RF', F1_RF])\n",
        "\n",
        "evaluate_model(rf_clf, X_test_fs, y_test_cicids, 'RF after Forward Feature selection')"
      ],
      "metadata": {
        "colab": {
          "base_uri": "https://localhost:8080/",
          "height": 836
        },
        "outputId": "aed9b3b3-d3ac-41a7-bff3-e44ca6ae7090",
        "id": "TTuPHzusbBPg"
      },
      "execution_count": null,
      "outputs": [
        {
          "output_type": "stream",
          "name": "stdout",
          "text": [
            "              precision    recall  f1-score   support\n",
            "\n",
            "           0       1.00      1.00      1.00     19538\n",
            "           1       1.00      1.00      1.00     25605\n",
            "\n",
            "    accuracy                           1.00     45143\n",
            "   macro avg       1.00      1.00      1.00     45143\n",
            "weighted avg       1.00      1.00      1.00     45143\n",
            "\n"
          ]
        },
        {
          "output_type": "display_data",
          "data": {
            "image/png": "[encoded data removed]",
            "text/plain": [
              "<Figure size 864x864 with 2 Axes>"
            ]
          },
          "metadata": {
            "needs_background": "light"
          }
        }
      ]
    },
    {
      "cell_type": "code",
      "source": [
        "plotModels(after_fors, 'After Forward Feature Selection', 'Models', 'F1-SCORE')"
      ],
      "metadata": {
        "colab": {
          "base_uri": "https://localhost:8080/",
          "height": 295
        },
        "outputId": "67a48b6e-f403-480a-cec0-1fcea66aa55c",
        "id": "FZNpSvXKbBPg"
      },
      "execution_count": null,
      "outputs": [
        {
          "output_type": "display_data",
          "data": {
            "image/png": "[encoded data removed]",
            "text/plain": [
              "<Figure size 432x288 with 1 Axes>"
            ]
          },
          "metadata": {
            "needs_background": "light"
          }
        }
      ]
    },
    {
      "cell_type": "code",
      "source": [
        "after_fors"
      ],
      "metadata": {
        "colab": {
          "base_uri": "https://localhost:8080/"
        },
        "outputId": "394b9bd4-c6aa-4895-f669-6ec685044a30",
        "id": "LPVMPjQWbBPg"
      },
      "execution_count": null,
      "outputs": [
        {
          "output_type": "execute_result",
          "data": {
            "text/plain": [
              "[['MLP', 0.9996234268958589],\n",
              " ['NB', 0.9417975890190812],\n",
              " ['SVM', 0.9979616446168639],\n",
              " ['RF', 0.9998892411925815]]"
            ]
          },
          "metadata": {},
          "execution_count": 45
        }
      ]
    },
    {
      "cell_type": "markdown",
      "source": [
        "## Feature Selection using Forward Model Selection"
      ],
      "metadata": {
        "id": "mH3WiqODGVW3"
      }
    },
    {
      "cell_type": "code",
      "source": [
        "clfd = RandomForestClassifier(random_state=42)\n",
        "sfs = SequentialFeatureSelector(clfd,\n",
        "          n_features_to_select=10,\n",
        "          direction='forward',\n",
        "          n_jobs=-1,\n",
        "          scoring='f1_weighted',\n",
        "          cv=5)\n",
        "# Build step forward feature selection\n",
        "sfs1 = sfs.fit(X_train, y_train)\n",
        "ss=[]\n",
        "k=sfs.get_support()\n",
        "for j in range(len(k)):\n",
        "    if k[j]==True:\n",
        "      ss.append(X_train.columns[j])"
      ],
      "metadata": {
        "id": "lOPZvtlKGY-2"
      },
      "execution_count": null,
      "outputs": []
    },
    {
      "cell_type": "code",
      "source": [
        "ss"
      ],
      "metadata": {
        "colab": {
          "base_uri": "https://localhost:8080/"
        },
        "id": "rIfCxKkXFXK6",
        "outputId": "6c71d2eb-acf3-4465-f5f3-d10b66a93c00"
      },
      "execution_count": null,
      "outputs": [
        {
          "output_type": "execute_result",
          "data": {
            "text/plain": [
              "['Destination Port',\n",
              " 'Flow Duration',\n",
              " 'Total Backward Packets',\n",
              " 'Total Length of Fwd Packets',\n",
              " 'Fwd Packet Length Max',\n",
              " 'Fwd Packet Length Std',\n",
              " 'Bwd Packet Length Std',\n",
              " 'Fwd IAT Total',\n",
              " 'Fwd IAT Max',\n",
              " 'Bwd IAT Total',\n",
              " 'Bwd IAT Mean',\n",
              " 'Bwd IAT Std',\n",
              " 'Bwd IAT Max',\n",
              " 'Bwd IAT Min',\n",
              " 'Fwd PSH Flags',\n",
              " 'Bwd PSH Flags',\n",
              " 'Fwd URG Flags',\n",
              " 'Bwd URG Flags',\n",
              " 'Bwd Header Length',\n",
              " 'Init_Win_bytes_backward']"
            ]
          },
          "metadata": {},
          "execution_count": 269
        }
      ]
    },
    {
      "cell_type": "code",
      "source": [
        "#Here we save the extracted features to be used later as the previous cell takes time to run.\n",
        "ss=['Destination Port', 'Flow Duration', 'Total Backward Packets', 'Total Length of Fwd Packets', 'Fwd Packet Length Max', 'Fwd Packet Length Std', 'Bwd Packet Length Std', 'Fwd IAT Total', 'Fwd IAT Max', 'Bwd IAT Total', 'Bwd IAT Mean', 'Bwd IAT Std', 'Bwd IAT Max', 'Bwd IAT Min', 'Fwd PSH Flags', 'Bwd PSH Flags', 'Fwd URG Flags', 'Bwd URG Flags', 'Bwd Header Length', 'Init_Win_bytes_backward']\n"
      ],
      "metadata": {
        "id": "1BFbGS6ZqXvk"
      },
      "execution_count": null,
      "outputs": []
    },
    {
      "cell_type": "markdown",
      "source": [
        "### Now, testing after applying feature selection"
      ],
      "metadata": {
        "id": "af5-Mb6gHXZK"
      }
    },
    {
      "cell_type": "code",
      "source": [
        "# first the mlp classifier\n",
        "cicids_fs_after=[]\n",
        "mlp_clf = MLPClassifier(random_state = 42, max_iter = 100, hidden_layer_sizes = (100, ), alpha= 0.0001, solver='adam')\n",
        "\n",
        "mlp_clf.fit(X_train_cicids[ss], y_train_cicids)\n",
        "\n",
        "y_pred = mlp_clf.predict(X_test_cicids[ss])\n",
        "\n",
        "print(classification_report(y_test_cicids, y_pred))\n",
        "\n",
        "F1_mlp = f1_score(y_test_cicids, y_pred)\n",
        "\n",
        "cicids_fs_after.append(['MLP', F1_mlp])\n",
        "\n",
        "evaluate_model(mlp_clf, X_test_cicids[ss], y_test_cicids, 'MLP After Forward Feature selection')"
      ],
      "metadata": {
        "id": "clbmRdKeHamt",
        "colab": {
          "base_uri": "https://localhost:8080/",
          "height": 839
        },
        "outputId": "5089246f-f3f3-44d7-faa8-d45a92097acd"
      },
      "execution_count": null,
      "outputs": [
        {
          "output_type": "stream",
          "name": "stdout",
          "text": [
            "              precision    recall  f1-score   support\n",
            "\n",
            "           0       0.99      0.99      0.99     19538\n",
            "           1       1.00      1.00      1.00     25605\n",
            "\n",
            "    accuracy                           1.00     45143\n",
            "   macro avg       1.00      1.00      1.00     45143\n",
            "weighted avg       1.00      1.00      1.00     45143\n",
            "\n"
          ]
        },
        {
          "output_type": "display_data",
          "data": {
            "image/png": "[encoded data removed]",
            "text/plain": [
              "<Figure size 864x864 with 2 Axes>"
            ]
          },
          "metadata": {
            "needs_background": "light"
          }
        }
      ]
    },
    {
      "cell_type": "code",
      "source": [
        "# second the multinomial naive bayes\n",
        "\n",
        "nb_clf = MultinomialNB()\n",
        "\n",
        "nb_clf.fit(X_train_cicids[ss], y_train_cicids)\n",
        "\n",
        "y_pred = nb_clf.predict(X_test_cicids[ss])\n",
        "\n",
        "print(classification_report(y_test_cicids, y_pred))\n",
        "\n",
        "\n",
        "evaluate_model(nb_clf, X_test_cicids[ss], y_test_cicids, 'NB After Forward Feature selection')\n",
        "\n",
        "F1_NB = f1_score(y_test_cicids, y_pred)\n",
        "\n",
        "cicids_fs_after.append(['NB', F1_NB])"
      ],
      "metadata": {
        "id": "EVgmpD-yHgyf",
        "colab": {
          "base_uri": "https://localhost:8080/",
          "height": 839
        },
        "outputId": "562d9f72-0df6-47ef-fc68-1b934f163d35"
      },
      "execution_count": null,
      "outputs": [
        {
          "output_type": "stream",
          "name": "stdout",
          "text": [
            "              precision    recall  f1-score   support\n",
            "\n",
            "           0       1.00      0.55      0.71     19538\n",
            "           1       0.74      1.00      0.85     25605\n",
            "\n",
            "    accuracy                           0.80     45143\n",
            "   macro avg       0.87      0.77      0.78     45143\n",
            "weighted avg       0.85      0.80      0.79     45143\n",
            "\n"
          ]
        },
        {
          "output_type": "display_data",
          "data": {
            "image/png": "[encoded data removed]",
            "text/plain": [
              "<Figure size 864x864 with 2 Axes>"
            ]
          },
          "metadata": {
            "needs_background": "light"
          }
        }
      ]
    },
    {
      "cell_type": "code",
      "source": [
        "# third the SVM model\n",
        "\n",
        "svm_clf = SVC(random_state = 42, C=100, gamma=1)\n",
        "\n",
        "svm_clf.fit(X_train_cicids[ss], y_train_cicids)\n",
        "\n",
        "y_pred = svm_clf.predict(X_test_cicids[ss])\n",
        "\n",
        "print(classification_report(y_test_cicids, y_pred))\n",
        "\n",
        "F1_SVM = f1_score(y_test_cicids, y_pred)\n",
        "\n",
        "cicids_fs_after.append(['SVM', F1_SVM])\n",
        "\n",
        "evaluate_model(svm_clf, X_test_cicids[ss], y_test_cicids, 'SVM After Forward Feature selection')"
      ],
      "metadata": {
        "id": "C94_IqcYHkyy",
        "colab": {
          "base_uri": "https://localhost:8080/",
          "height": 840
        },
        "outputId": "b6a374e8-b9d2-43e5-f671-1783898d79eb"
      },
      "execution_count": null,
      "outputs": [
        {
          "output_type": "stream",
          "name": "stdout",
          "text": [
            "              precision    recall  f1-score   support\n",
            "\n",
            "           0       0.98      1.00      0.99     19538\n",
            "           1       1.00      0.98      0.99     25605\n",
            "\n",
            "    accuracy                           0.99     45143\n",
            "   macro avg       0.99      0.99      0.99     45143\n",
            "weighted avg       0.99      0.99      0.99     45143\n",
            "\n"
          ]
        },
        {
          "output_type": "display_data",
          "data": {
            "image/png": "[encoded data removed]",
            "text/plain": [
              "<Figure size 864x864 with 2 Axes>"
            ]
          },
          "metadata": {
            "needs_background": "light"
          }
        }
      ]
    },
    {
      "cell_type": "code",
      "source": [
        "# fourth the random forest classifier\n",
        "\n",
        "rf_clf = RandomForestClassifier(random_state = 42, n_estimators=100, max_depth=None)\n",
        "\n",
        "rf_clf.fit(X_train_cicids[ss], y_train_cicids)\n",
        "\n",
        "y_pred = rf_clf.predict(X_test_cicids[ss])\n",
        "\n",
        "print(classification_report(y_test_cicids, y_pred))\n",
        "\n",
        "F1_RF = f1_score(y_test_cicids, y_pred)\n",
        "\n",
        "cicids_fs_after.append(['RF', F1_RF])\n",
        "\n",
        "evaluate_model(rf_clf, X_test_cicids[ss], y_test_cicids, 'RF After Forward Feature selection')"
      ],
      "metadata": {
        "id": "r15tpzWBHmrO",
        "colab": {
          "base_uri": "https://localhost:8080/",
          "height": 839
        },
        "outputId": "319f33c4-f709-4c81-cb34-5a8dc731ca7c"
      },
      "execution_count": null,
      "outputs": [
        {
          "output_type": "stream",
          "name": "stdout",
          "text": [
            "              precision    recall  f1-score   support\n",
            "\n",
            "           0       1.00      1.00      1.00     19538\n",
            "           1       1.00      1.00      1.00     25605\n",
            "\n",
            "    accuracy                           1.00     45143\n",
            "   macro avg       1.00      1.00      1.00     45143\n",
            "weighted avg       1.00      1.00      1.00     45143\n",
            "\n"
          ]
        },
        {
          "output_type": "display_data",
          "data": {
            "image/png": "[encoded data removed]",
            "text/plain": [
              "<Figure size 864x864 with 2 Axes>"
            ]
          },
          "metadata": {
            "needs_background": "light"
          }
        }
      ]
    },
    {
      "cell_type": "code",
      "source": [
        "plotModels(cicids_fs_after, 'After Forward Feature Selection', 'Models', 'F1-SCORE')"
      ],
      "metadata": {
        "id": "vzAKGIoFYZjo",
        "colab": {
          "base_uri": "https://localhost:8080/",
          "height": 295
        },
        "outputId": "6df930d0-ec9e-41db-d179-fbe8605bf857"
      },
      "execution_count": null,
      "outputs": [
        {
          "output_type": "display_data",
          "data": {
            "image/png": "[encoded data removed]",
            "text/plain": [
              "<Figure size 432x288 with 1 Axes>"
            ]
          },
          "metadata": {
            "needs_background": "light"
          }
        }
      ]
    },
    {
      "cell_type": "code",
      "source": [
        "cicids_fs_after"
      ],
      "metadata": {
        "id": "tK9Dvg3Y3dAp",
        "colab": {
          "base_uri": "https://localhost:8080/"
        },
        "outputId": "eb2ff825-f94a-48da-c7a5-0c174d090c37"
      },
      "execution_count": null,
      "outputs": [
        {
          "output_type": "execute_result",
          "data": {
            "text/plain": [
              "[['MLP', 0.9960363174851118],\n",
              " ['NB', 0.8525430783318072],\n",
              " ['SVM', 0.9893862119213123],\n",
              " ['RF', 0.9997852191740701]]"
            ]
          },
          "metadata": {},
          "execution_count": 275
        }
      ]
    },
    {
      "cell_type": "markdown",
      "metadata": {
        "id": "dOuhw0NlfDx1"
      },
      "source": [
        "## Feature Selection using Embedded Methods"
      ]
    },
    {
      "cell_type": "code",
      "source": [
        "rfe_features = []"
      ],
      "metadata": {
        "id": "OVlf8mwXfDx2"
      },
      "execution_count": null,
      "outputs": []
    },
    {
      "cell_type": "code",
      "source": [
        "#Recursive Feature Elimination\n",
        "from sklearn.feature_selection import RFECV\n",
        "from sklearn.linear_model import LassoCV\n",
        "\n",
        "rfe = RFECV(estimator=LassoCV(), cv=5, n_jobs=-1)\n",
        "# fit the model\n",
        "fitted_model = rfe.fit(X_train_cicids, y_train_cicids)"
      ],
      "metadata": {
        "id": "mSBRCekCfDx3"
      },
      "execution_count": null,
      "outputs": []
    },
    {
      "cell_type": "code",
      "source": [
        "print('Optimal number of features: {}'.format(fitted_model.n_features_))"
      ],
      "metadata": {
        "colab": {
          "base_uri": "https://localhost:8080/"
        },
        "outputId": "9a0af968-7e7d-44c2-f92b-694a6ea574cd",
        "id": "VvrJwJYmfDx4"
      },
      "execution_count": null,
      "outputs": [
        {
          "output_type": "stream",
          "name": "stdout",
          "text": [
            "Optimal number of features: 32\n"
          ]
        }
      ]
    },
    {
      "cell_type": "code",
      "source": [
        "dataframe = []\n",
        "rfe_selected_features = []\n",
        "for i in range(X_train_cicids.shape[1]):\n",
        "  if(fitted_model.support_[i] == True):\n",
        "    dataframe.append([X_train_cicids.columns[i], fitted_model.ranking_[i], fitted_model.support_[i]])\n",
        "    rfe_selected_features.append(X_train_cicids.columns[i])\n",
        "\n",
        "pd.DataFrame(dataframe, columns=['Feature', 'ranking', 'selected'])"
      ],
      "metadata": {
        "colab": {
          "base_uri": "https://localhost:8080/",
          "height": 1000
        },
        "outputId": "2a741acc-cd6d-4119-feb2-43e14b9b1fc2",
        "id": "HEwq0WSZfDx5"
      },
      "execution_count": null,
      "outputs": [
        {
          "output_type": "execute_result",
          "data": {
            "text/html": [
              "<div>\n",
              "<style scoped>\n",
              "    .dataframe tbody tr th:only-of-type {\n",
              "        vertical-align: middle;\n",
              "    }\n",
              "\n",
              "    .dataframe tbody tr th {\n",
              "        vertical-align: top;\n",
              "    }\n",
              "\n",
              "    .dataframe thead th {\n",
              "        text-align: right;\n",
              "    }\n",
              "</style>\n",
              "<table border=\"1\" class=\"dataframe\">\n",
              "  <thead>\n",
              "    <tr style=\"text-align: right;\">\n",
              "      <th></th>\n",
              "      <th>Feature</th>\n",
              "      <th>ranking</th>\n",
              "      <th>selected</th>\n",
              "    </tr>\n",
              "  </thead>\n",
              "  <tbody>\n",
              "    <tr>\n",
              "      <th>0</th>\n",
              "      <td>Destination Port</td>\n",
              "      <td>1</td>\n",
              "      <td>True</td>\n",
              "    </tr>\n",
              "    <tr>\n",
              "      <th>1</th>\n",
              "      <td>Flow Duration</td>\n",
              "      <td>1</td>\n",
              "      <td>True</td>\n",
              "    </tr>\n",
              "    <tr>\n",
              "      <th>2</th>\n",
              "      <td>Fwd Packet Length Max</td>\n",
              "      <td>1</td>\n",
              "      <td>True</td>\n",
              "    </tr>\n",
              "    <tr>\n",
              "      <th>3</th>\n",
              "      <td>Fwd Packet Length Min</td>\n",
              "      <td>1</td>\n",
              "      <td>True</td>\n",
              "    </tr>\n",
              "    <tr>\n",
              "      <th>4</th>\n",
              "      <td>Fwd Packet Length Mean</td>\n",
              "      <td>1</td>\n",
              "      <td>True</td>\n",
              "    </tr>\n",
              "    <tr>\n",
              "      <th>5</th>\n",
              "      <td>Bwd Packet Length Min</td>\n",
              "      <td>1</td>\n",
              "      <td>True</td>\n",
              "    </tr>\n",
              "    <tr>\n",
              "      <th>6</th>\n",
              "      <td>Flow IAT Mean</td>\n",
              "      <td>1</td>\n",
              "      <td>True</td>\n",
              "    </tr>\n",
              "    <tr>\n",
              "      <th>7</th>\n",
              "      <td>Flow IAT Std</td>\n",
              "      <td>1</td>\n",
              "      <td>True</td>\n",
              "    </tr>\n",
              "    <tr>\n",
              "      <th>8</th>\n",
              "      <td>Flow IAT Max</td>\n",
              "      <td>1</td>\n",
              "      <td>True</td>\n",
              "    </tr>\n",
              "    <tr>\n",
              "      <th>9</th>\n",
              "      <td>Fwd IAT Std</td>\n",
              "      <td>1</td>\n",
              "      <td>True</td>\n",
              "    </tr>\n",
              "    <tr>\n",
              "      <th>10</th>\n",
              "      <td>Bwd IAT Total</td>\n",
              "      <td>1</td>\n",
              "      <td>True</td>\n",
              "    </tr>\n",
              "    <tr>\n",
              "      <th>11</th>\n",
              "      <td>Bwd IAT Mean</td>\n",
              "      <td>1</td>\n",
              "      <td>True</td>\n",
              "    </tr>\n",
              "    <tr>\n",
              "      <th>12</th>\n",
              "      <td>Bwd IAT Max</td>\n",
              "      <td>1</td>\n",
              "      <td>True</td>\n",
              "    </tr>\n",
              "    <tr>\n",
              "      <th>13</th>\n",
              "      <td>Fwd PSH Flags</td>\n",
              "      <td>1</td>\n",
              "      <td>True</td>\n",
              "    </tr>\n",
              "    <tr>\n",
              "      <th>14</th>\n",
              "      <td>Fwd Packets/s</td>\n",
              "      <td>1</td>\n",
              "      <td>True</td>\n",
              "    </tr>\n",
              "    <tr>\n",
              "      <th>15</th>\n",
              "      <td>Min Packet Length</td>\n",
              "      <td>1</td>\n",
              "      <td>True</td>\n",
              "    </tr>\n",
              "    <tr>\n",
              "      <th>16</th>\n",
              "      <td>Packet Length Mean</td>\n",
              "      <td>1</td>\n",
              "      <td>True</td>\n",
              "    </tr>\n",
              "    <tr>\n",
              "      <th>17</th>\n",
              "      <td>Packet Length Std</td>\n",
              "      <td>1</td>\n",
              "      <td>True</td>\n",
              "    </tr>\n",
              "    <tr>\n",
              "      <th>18</th>\n",
              "      <td>Packet Length Variance</td>\n",
              "      <td>1</td>\n",
              "      <td>True</td>\n",
              "    </tr>\n",
              "    <tr>\n",
              "      <th>19</th>\n",
              "      <td>FIN Flag Count</td>\n",
              "      <td>1</td>\n",
              "      <td>True</td>\n",
              "    </tr>\n",
              "    <tr>\n",
              "      <th>20</th>\n",
              "      <td>PSH Flag Count</td>\n",
              "      <td>1</td>\n",
              "      <td>True</td>\n",
              "    </tr>\n",
              "    <tr>\n",
              "      <th>21</th>\n",
              "      <td>ACK Flag Count</td>\n",
              "      <td>1</td>\n",
              "      <td>True</td>\n",
              "    </tr>\n",
              "    <tr>\n",
              "      <th>22</th>\n",
              "      <td>URG Flag Count</td>\n",
              "      <td>1</td>\n",
              "      <td>True</td>\n",
              "    </tr>\n",
              "    <tr>\n",
              "      <th>23</th>\n",
              "      <td>Average Packet Size</td>\n",
              "      <td>1</td>\n",
              "      <td>True</td>\n",
              "    </tr>\n",
              "    <tr>\n",
              "      <th>24</th>\n",
              "      <td>Avg Fwd Segment Size</td>\n",
              "      <td>1</td>\n",
              "      <td>True</td>\n",
              "    </tr>\n",
              "    <tr>\n",
              "      <th>25</th>\n",
              "      <td>Avg Bwd Segment Size</td>\n",
              "      <td>1</td>\n",
              "      <td>True</td>\n",
              "    </tr>\n",
              "    <tr>\n",
              "      <th>26</th>\n",
              "      <td>Init_Win_bytes_forward</td>\n",
              "      <td>1</td>\n",
              "      <td>True</td>\n",
              "    </tr>\n",
              "    <tr>\n",
              "      <th>27</th>\n",
              "      <td>Init_Win_bytes_backward</td>\n",
              "      <td>1</td>\n",
              "      <td>True</td>\n",
              "    </tr>\n",
              "    <tr>\n",
              "      <th>28</th>\n",
              "      <td>min_seg_size_forward</td>\n",
              "      <td>1</td>\n",
              "      <td>True</td>\n",
              "    </tr>\n",
              "    <tr>\n",
              "      <th>29</th>\n",
              "      <td>Idle Mean</td>\n",
              "      <td>1</td>\n",
              "      <td>True</td>\n",
              "    </tr>\n",
              "    <tr>\n",
              "      <th>30</th>\n",
              "      <td>Idle Std</td>\n",
              "      <td>1</td>\n",
              "      <td>True</td>\n",
              "    </tr>\n",
              "    <tr>\n",
              "      <th>31</th>\n",
              "      <td>Idle Max</td>\n",
              "      <td>1</td>\n",
              "      <td>True</td>\n",
              "    </tr>\n",
              "  </tbody>\n",
              "</table>\n",
              "</div>"
            ],
            "text/plain": [
              "                    Feature  ranking  selected\n",
              "0          Destination Port        1      True\n",
              "1             Flow Duration        1      True\n",
              "2     Fwd Packet Length Max        1      True\n",
              "3     Fwd Packet Length Min        1      True\n",
              "4    Fwd Packet Length Mean        1      True\n",
              "5     Bwd Packet Length Min        1      True\n",
              "6             Flow IAT Mean        1      True\n",
              "7              Flow IAT Std        1      True\n",
              "8              Flow IAT Max        1      True\n",
              "9               Fwd IAT Std        1      True\n",
              "10            Bwd IAT Total        1      True\n",
              "11             Bwd IAT Mean        1      True\n",
              "12              Bwd IAT Max        1      True\n",
              "13            Fwd PSH Flags        1      True\n",
              "14            Fwd Packets/s        1      True\n",
              "15        Min Packet Length        1      True\n",
              "16       Packet Length Mean        1      True\n",
              "17        Packet Length Std        1      True\n",
              "18   Packet Length Variance        1      True\n",
              "19           FIN Flag Count        1      True\n",
              "20           PSH Flag Count        1      True\n",
              "21           ACK Flag Count        1      True\n",
              "22           URG Flag Count        1      True\n",
              "23      Average Packet Size        1      True\n",
              "24     Avg Fwd Segment Size        1      True\n",
              "25     Avg Bwd Segment Size        1      True\n",
              "26   Init_Win_bytes_forward        1      True\n",
              "27  Init_Win_bytes_backward        1      True\n",
              "28     min_seg_size_forward        1      True\n",
              "29                Idle Mean        1      True\n",
              "30                 Idle Std        1      True\n",
              "31                 Idle Max        1      True"
            ]
          },
          "metadata": {},
          "execution_count": 59
        }
      ]
    },
    {
      "cell_type": "code",
      "source": [
        "rfe_selected_features"
      ],
      "metadata": {
        "colab": {
          "base_uri": "https://localhost:8080/"
        },
        "outputId": "be832413-50cc-49c1-88e7-59aa47837865",
        "id": "NhHDe_DCfDx5"
      },
      "execution_count": null,
      "outputs": [
        {
          "output_type": "execute_result",
          "data": {
            "text/plain": [
              "['Destination Port',\n",
              " 'Flow Duration',\n",
              " 'Fwd Packet Length Max',\n",
              " 'Fwd Packet Length Min',\n",
              " 'Fwd Packet Length Mean',\n",
              " 'Bwd Packet Length Min',\n",
              " 'Flow IAT Mean',\n",
              " 'Flow IAT Std',\n",
              " 'Flow IAT Max',\n",
              " 'Fwd IAT Std',\n",
              " 'Bwd IAT Total',\n",
              " 'Bwd IAT Mean',\n",
              " 'Bwd IAT Max',\n",
              " 'Fwd PSH Flags',\n",
              " 'Fwd Packets/s',\n",
              " 'Min Packet Length',\n",
              " 'Packet Length Mean',\n",
              " 'Packet Length Std',\n",
              " 'Packet Length Variance',\n",
              " 'FIN Flag Count',\n",
              " 'PSH Flag Count',\n",
              " 'ACK Flag Count',\n",
              " 'URG Flag Count',\n",
              " 'Average Packet Size',\n",
              " 'Avg Fwd Segment Size',\n",
              " 'Avg Bwd Segment Size',\n",
              " 'Init_Win_bytes_forward',\n",
              " 'Init_Win_bytes_backward',\n",
              " 'min_seg_size_forward',\n",
              " 'Idle Mean',\n",
              " 'Idle Std',\n",
              " 'Idle Max']"
            ]
          },
          "metadata": {},
          "execution_count": 60
        }
      ]
    },
    {
      "cell_type": "markdown",
      "metadata": {
        "id": "qssPSW3GfDx6"
      },
      "source": [
        "### Now, testing after applying feature selection"
      ]
    },
    {
      "cell_type": "code",
      "source": [
        "rfe_features = []\n",
        "new_X_train = X_train_cicids[rfe_selected_features]\n",
        "print('new shape', new_X_train.shape)\n",
        "new_X_test = X_test_cicids[rfe_selected_features]"
      ],
      "metadata": {
        "colab": {
          "base_uri": "https://localhost:8080/"
        },
        "outputId": "b57ab44f-465c-4e12-f2ba-a1661e93ece7",
        "id": "5TKgqBECfDx7"
      },
      "execution_count": null,
      "outputs": [
        {
          "output_type": "stream",
          "name": "stdout",
          "text": [
            "new shape (162511, 32)\n"
          ]
        }
      ]
    },
    {
      "cell_type": "code",
      "source": [
        "# first the mlp classifier\n",
        "\n",
        "mlp_clf = MLPClassifier(random_state = 42, max_iter = 1000, hidden_layer_sizes = (100, 200), alpha= 0.0001, solver='adam')\n",
        "\n",
        "mlp_clf.fit(new_X_train, y_train_cicids)\n",
        "\n",
        "y_pred = mlp_clf.predict(new_X_test)\n",
        "\n",
        "print(classification_report(y_test_cicids, y_pred))\n",
        "\n",
        "F1_mlp = f1_score(y_test_cicids, y_pred, average='weighted')\n",
        "rfe_features.append(['MLP', F1_mlp])\n",
        "\n",
        "evaluate_model(mlp_clf, new_X_test, y_test_cicids, 'MLP After RFE Feature selection')"
      ],
      "metadata": {
        "colab": {
          "base_uri": "https://localhost:8080/",
          "height": 839
        },
        "outputId": "669f5af6-a151-4a44-ed52-5da9003d1193",
        "id": "q04JFuptfDx7"
      },
      "execution_count": null,
      "outputs": [
        {
          "output_type": "stream",
          "name": "stdout",
          "text": [
            "              precision    recall  f1-score   support\n",
            "\n",
            "           0       1.00      1.00      1.00     19538\n",
            "           1       1.00      1.00      1.00     25605\n",
            "\n",
            "    accuracy                           1.00     45143\n",
            "   macro avg       1.00      1.00      1.00     45143\n",
            "weighted avg       1.00      1.00      1.00     45143\n",
            "\n"
          ]
        },
        {
          "output_type": "display_data",
          "data": {
            "image/png": "[encoded data removed]",
            "text/plain": [
              "<Figure size 864x864 with 2 Axes>"
            ]
          },
          "metadata": {
            "needs_background": "light"
          }
        }
      ]
    },
    {
      "cell_type": "code",
      "source": [
        "# second the multinomial naive bayes\n",
        "\n",
        "nb_clf = MultinomialNB()\n",
        "\n",
        "nb_clf.fit(new_X_train, y_train_cicids)\n",
        "\n",
        "y_pred = nb_clf.predict(new_X_test)\n",
        "\n",
        "print(classification_report(y_test_cicids, y_pred))\n",
        "\n",
        "evaluate_model(nb_clf, new_X_test, y_test_cicids, 'NB After RFE Feature selection')\n",
        "\n",
        "F1_NB = f1_score(y_test_cicids, y_pred, average='weighted')\n",
        "\n",
        "rfe_features.append(['NB', F1_NB])\n"
      ],
      "metadata": {
        "colab": {
          "base_uri": "https://localhost:8080/",
          "height": 839
        },
        "outputId": "ea6a71af-8bf1-4aa2-8ef7-26fd7b4e659b",
        "id": "pFlLTtDcfDx8"
      },
      "execution_count": null,
      "outputs": [
        {
          "output_type": "stream",
          "name": "stdout",
          "text": [
            "              precision    recall  f1-score   support\n",
            "\n",
            "           0       1.00      0.87      0.93     19538\n",
            "           1       0.91      1.00      0.95     25605\n",
            "\n",
            "    accuracy                           0.94     45143\n",
            "   macro avg       0.96      0.94      0.94     45143\n",
            "weighted avg       0.95      0.94      0.94     45143\n",
            "\n"
          ]
        },
        {
          "output_type": "display_data",
          "data": {
            "image/png": "[encoded data removed]",
            "text/plain": [
              "<Figure size 864x864 with 2 Axes>"
            ]
          },
          "metadata": {
            "needs_background": "light"
          }
        }
      ]
    },
    {
      "cell_type": "code",
      "source": [
        "# third the SVM model\n",
        "\n",
        "svm_clf = SVC(random_state = 42, C=100, gamma=1)\n",
        "\n",
        "svm_clf.fit(new_X_train, y_train_cicids)\n",
        "\n",
        "y_pred = svm_clf.predict(new_X_test)\n",
        "\n",
        "print(classification_report(y_test_cicids, y_pred))\n",
        "\n",
        "F1_SVM = f1_score(y_test_cicids, y_pred, average='weighted')\n",
        "\n",
        "rfe_features.append(['SVM', F1_SVM])\n",
        "\n",
        "evaluate_model(svm_clf, new_X_test, y_test_cicids, 'SVM After RFE Feature selection')\n"
      ],
      "metadata": {
        "colab": {
          "base_uri": "https://localhost:8080/",
          "height": 839
        },
        "outputId": "3ddcf9e1-50c8-4964-f286-c7a3513f0b41",
        "id": "efXZOeqGfDx9"
      },
      "execution_count": null,
      "outputs": [
        {
          "output_type": "stream",
          "name": "stdout",
          "text": [
            "              precision    recall  f1-score   support\n",
            "\n",
            "           0       1.00      0.99      1.00     19538\n",
            "           1       0.99      1.00      1.00     25605\n",
            "\n",
            "    accuracy                           1.00     45143\n",
            "   macro avg       1.00      1.00      1.00     45143\n",
            "weighted avg       1.00      1.00      1.00     45143\n",
            "\n"
          ]
        },
        {
          "output_type": "display_data",
          "data": {
            "image/png": "[encoded data removed]",
            "text/plain": [
              "<Figure size 864x864 with 2 Axes>"
            ]
          },
          "metadata": {
            "needs_background": "light"
          }
        }
      ]
    },
    {
      "cell_type": "code",
      "source": [
        "# fourth the random forest classifier\n",
        "\n",
        "rf_clf = RandomForestClassifier(random_state = 42, n_estimators=128, max_depth=None)\n",
        "\n",
        "rf_clf.fit(new_X_train, y_train_cicids)\n",
        "\n",
        "y_pred = rf_clf.predict(new_X_test)\n",
        "\n",
        "print(classification_report(y_test_cicids, y_pred))\n",
        "\n",
        "F1_RF = f1_score(y_test_cicids, y_pred, average='weighted')\n",
        "\n",
        "rfe_features.append(['RF', F1_RF])\n",
        "\n",
        "evaluate_model(rf_clf, new_X_test, y_test_cicids, 'RF After RFE Feature selection')\n"
      ],
      "metadata": {
        "colab": {
          "base_uri": "https://localhost:8080/",
          "height": 839
        },
        "outputId": "ca627fff-6ff5-47b9-a291-bd35acd300dd",
        "id": "a5rf6gWmfDx9"
      },
      "execution_count": null,
      "outputs": [
        {
          "output_type": "stream",
          "name": "stdout",
          "text": [
            "              precision    recall  f1-score   support\n",
            "\n",
            "           0       1.00      1.00      1.00     19538\n",
            "           1       1.00      1.00      1.00     25605\n",
            "\n",
            "    accuracy                           1.00     45143\n",
            "   macro avg       1.00      1.00      1.00     45143\n",
            "weighted avg       1.00      1.00      1.00     45143\n",
            "\n"
          ]
        },
        {
          "output_type": "display_data",
          "data": {
            "image/png": "[encoded data removed]",
            "text/plain": [
              "<Figure size 864x864 with 2 Axes>"
            ]
          },
          "metadata": {
            "needs_background": "light"
          }
        }
      ]
    },
    {
      "cell_type": "code",
      "source": [
        "rfe_features"
      ],
      "metadata": {
        "colab": {
          "base_uri": "https://localhost:8080/"
        },
        "outputId": "f72f48d3-8a37-40de-95f5-de8286c7177f",
        "id": "D7LiTtmTfDx-"
      },
      "execution_count": null,
      "outputs": [
        {
          "output_type": "execute_result",
          "data": {
            "text/plain": [
              "[['MLP', 0.9996898762790036],\n",
              " ['NB', 0.9443691906884939],\n",
              " ['SVM', 0.996410003314197],\n",
              " ['RF', 0.9999113926854661]]"
            ]
          },
          "metadata": {},
          "execution_count": 73
        }
      ]
    },
    {
      "cell_type": "code",
      "source": [
        "plotModels(rfe_features, 'After RFE Feature Selection', 'Models', 'F1-SCORE')"
      ],
      "metadata": {
        "colab": {
          "base_uri": "https://localhost:8080/",
          "height": 295
        },
        "outputId": "3cd7b0f0-ea1a-45e2-caac-ee3358e82692",
        "id": "W9cnAkeEfDx-"
      },
      "execution_count": null,
      "outputs": [
        {
          "output_type": "display_data",
          "data": {
            "image/png": "[encoded data removed]",
            "text/plain": [
              "<Figure size 432x288 with 1 Axes>"
            ]
          },
          "metadata": {
            "needs_background": "light"
          }
        }
      ]
    },
    {
      "cell_type": "markdown",
      "source": [
        "## New Ensemble Feature selection"
      ],
      "metadata": {
        "id": "zUY00E7PSCrs"
      }
    },
    {
      "cell_type": "code",
      "source": [
        "def ensemble_method(no_features, s1, s2, s3):\n",
        "  s11=set(s1)\n",
        "  s22=set(s2)\n",
        "  s33=set(s3)\n",
        "\n",
        "  set1 = s11.intersection(s22) \n",
        "  set2 = set1.intersection(s33)\n",
        "\n",
        "\n",
        "  # Converts resulting set to list\n",
        "  feature=list(set2)\n",
        "  \n",
        "  while len(feature) <= no_features:\n",
        "    for item in set1:\n",
        "      if item not in feature:\n",
        "            feature.append(item)\n",
        "      \n",
        "    for item in s11.intersection(s33):\n",
        "      if item not in feature:\n",
        "        feature.append(item)\n",
        "    \n",
        "    for item in s22.intersection(s33):\n",
        "      if item not in feature:\n",
        "        feature.append(item)\n",
        "\n",
        "  print(feature)\n",
        "  print(len(feature))\n",
        "  \n",
        "  return feature"
      ],
      "metadata": {
        "id": "1B3PovPzVv5q"
      },
      "execution_count": null,
      "outputs": []
    },
    {
      "cell_type": "code",
      "source": [
        "#s1,s2, and s3 are the extracted features from each feature selection method. They were added manually here in order to not run the entire notebook\n",
        "# from the beginning\n",
        "s1=['Destination Port', 'Flow Duration', 'Total Backward Packets', 'Total Length of Fwd Packets', 'Fwd Packet Length Max', 'Fwd Packet Length Std', 'Bwd Packet Length Std', 'Fwd IAT Total', 'Fwd IAT Max', 'Bwd IAT Total', 'Bwd IAT Mean', 'Bwd IAT Std', 'Bwd IAT Max', 'Bwd IAT Min', 'Fwd PSH Flags', 'Bwd PSH Flags', 'Fwd URG Flags', 'Bwd URG Flags', 'Bwd Header Length', 'Init_Win_bytes_backward']\n",
        "s2=['Flow Packets/s',\n",
        " 'Flow IAT Mean',\n",
        " 'Flow Bytes/s',\n",
        " 'Fwd Packets/s',\n",
        " 'Flow Duration',\n",
        " 'Flow IAT Std',\n",
        " 'Flow IAT Max',\n",
        " 'Fwd IAT Std',\n",
        " 'Fwd IAT Mean',\n",
        " 'Fwd IAT Max',\n",
        " 'Fwd IAT Total',\n",
        " 'Bwd Packets/s',\n",
        " 'Bwd IAT Std',\n",
        " 'Bwd IAT Mean',\n",
        " 'Bwd IAT Total',\n",
        " 'Bwd IAT Max',\n",
        " 'Fwd IAT Min',\n",
        " 'Idle Min',\n",
        " 'Idle Max',\n",
        " 'Idle Mean',\n",
        " 'Active Min',\n",
        " 'Active Max',\n",
        " 'Active Mean',\n",
        " 'Flow IAT Min',\n",
        " 'Bwd IAT Min',\n",
        " 'Packet Length Std',\n",
        " 'Packet Length Variance',\n",
        " 'Bwd Packet Length Std',\n",
        " 'Average Packet Size',\n",
        " 'Packet Length Mean',\n",
        " 'Bwd Packet Length Max',\n",
        " 'Max Packet Length',\n",
        " 'Avg Bwd Segment Size',\n",
        " 'Bwd Packet Length Mean',\n",
        " 'Fwd Header Length.1',\n",
        " 'Fwd Header Length',\n",
        " 'Total Length of Fwd Packets',\n",
        " 'Subflow Fwd Bytes',\n",
        " 'Subflow Fwd Packets',\n",
        " 'Total Fwd Packets',\n",
        " 'act_data_pkt_fwd',\n",
        " 'Bwd Header Length',\n",
        " 'Subflow Bwd Packets',\n",
        " 'Total Backward Packets',\n",
        " 'Fwd Packet Length Std',\n",
        " 'Fwd Packet Length Mean',\n",
        " 'Avg Fwd Segment Size',\n",
        " 'Subflow Bwd Bytes',\n",
        " 'Total Length of Bwd Packets',\n",
        " 'Down/Up Ratio',\n",
        " 'Idle Std',\n",
        " 'Init_Win_bytes_forward',\n",
        " 'PSH Flag Count',\n",
        " 'ACK Flag Count',\n",
        " 'Fwd Packet Length Max',\n",
        " 'Fwd Packet Length Min',\n",
        " 'Min Packet Length',\n",
        " 'Init_Win_bytes_backward',\n",
        " 'Bwd Packet Length Min',\n",
        " 'FIN Flag Count',\n",
        " 'Destination Port',\n",
        " 'URG Flag Count']\n",
        "s3=['Destination Port',\n",
        " 'Flow Duration',\n",
        " 'Fwd Packet Length Max',\n",
        " 'Fwd Packet Length Min',\n",
        " 'Fwd Packet Length Mean',\n",
        " 'Bwd Packet Length Min',\n",
        " 'Flow IAT Mean',\n",
        " 'Flow IAT Std',\n",
        " 'Flow IAT Max',\n",
        " 'Fwd IAT Std',\n",
        " 'Bwd IAT Total',\n",
        " 'Bwd IAT Mean',\n",
        " 'Bwd IAT Max',\n",
        " 'Fwd PSH Flags',\n",
        " 'Fwd Packets/s',\n",
        " 'Min Packet Length',\n",
        " 'Packet Length Mean',\n",
        " 'Packet Length Std',\n",
        " 'Packet Length Variance',\n",
        " 'FIN Flag Count',\n",
        " 'PSH Flag Count',\n",
        " 'ACK Flag Count',\n",
        " 'URG Flag Count',\n",
        " 'Average Packet Size',\n",
        " 'Avg Fwd Segment Size',\n",
        " 'Avg Bwd Segment Size',\n",
        " 'Init_Win_bytes_forward',\n",
        " 'Init_Win_bytes_backward',\n",
        " 'min_seg_size_forward',\n",
        " 'Idle Mean',\n",
        " 'Idle Std',\n",
        " 'Idle Max']\n",
        "\n",
        "feature2 = ensemble_method(40, s1, s2, s3)"
      ],
      "metadata": {
        "colab": {
          "base_uri": "https://localhost:8080/"
        },
        "outputId": "f979f89e-dad5-454a-988b-70475eca00b4",
        "id": "8cPR7S5bSCrs"
      },
      "execution_count": null,
      "outputs": [
        {
          "output_type": "stream",
          "name": "stdout",
          "text": [
            "20\n",
            "['Init_Win_bytes_backward', 'Bwd IAT Max', 'Destination Port', 'Bwd IAT Total', 'Fwd Packet Length Max', 'Bwd IAT Mean', 'Flow Duration', 'Bwd IAT Std', 'Fwd Packet Length Std', 'Total Length of Fwd Packets', 'Bwd Header Length', 'Bwd IAT Min', 'Total Backward Packets', 'Fwd IAT Total', 'Fwd IAT Max', 'Bwd Packet Length Std', 'Fwd PSH Flags', 'Avg Bwd Segment Size', 'Idle Mean', 'Fwd IAT Std', 'Idle Std', 'Packet Length Std', 'Packet Length Variance', 'Flow IAT Max', 'Min Packet Length', 'FIN Flag Count', 'URG Flag Count', 'PSH Flag Count', 'Packet Length Mean', 'Fwd Packets/s', 'Average Packet Size', 'ACK Flag Count', 'Avg Fwd Segment Size', 'Flow IAT Mean', 'Flow IAT Std', 'Init_Win_bytes_forward', 'Fwd Packet Length Min', 'Bwd Packet Length Min', 'Fwd Packet Length Mean', 'Idle Max']\n",
            "40\n"
          ]
        }
      ]
    },
    {
      "cell_type": "code",
      "source": [
        "rfe_features2 = []\n",
        "new_X_train = X_train_cicids[feature2]\n",
        "print('new shape', new_X_train.shape)\n",
        "new_X_test = X_test_cicids[feature2]"
      ],
      "metadata": {
        "colab": {
          "base_uri": "https://localhost:8080/"
        },
        "outputId": "77668509-cc8f-461d-aa4d-a40abca6684c",
        "id": "hVHYOwUnSCrw"
      },
      "execution_count": null,
      "outputs": [
        {
          "output_type": "stream",
          "name": "stdout",
          "text": [
            "new shape (162511, 40)\n"
          ]
        }
      ]
    },
    {
      "cell_type": "code",
      "source": [
        "# first the mlp classifier\n",
        "\n",
        "mlp_clf = MLPClassifier(random_state = 42, max_iter = 100, hidden_layer_sizes = (100, 200), alpha= 0.0001, solver='adam')\n",
        "\n",
        "mlp_clf.fit(new_X_train, y_train_cicids)\n",
        "\n",
        "y_pred = mlp_clf.predict(new_X_test)\n",
        "\n",
        "print(classification_report(y_test_cicids, y_pred))\n",
        "\n",
        "F1_mlp = f1_score(y_test_cicids, y_pred, average='weighted')\n",
        "rfe_features2.append(['MLP', F1_mlp])\n",
        "\n",
        "evaluate_model(mlp_clf, new_X_test, y_test_cicids, 'MLP After ensemble method Feature selection')"
      ],
      "metadata": {
        "colab": {
          "base_uri": "https://localhost:8080/",
          "height": 839
        },
        "outputId": "2b0f1ad5-3465-4244-ade4-d473e708e672",
        "id": "RRyyhw5hSCrx"
      },
      "execution_count": null,
      "outputs": [
        {
          "output_type": "stream",
          "name": "stdout",
          "text": [
            "              precision    recall  f1-score   support\n",
            "\n",
            "           0       1.00      1.00      1.00     19538\n",
            "           1       1.00      1.00      1.00     25605\n",
            "\n",
            "    accuracy                           1.00     45143\n",
            "   macro avg       1.00      1.00      1.00     45143\n",
            "weighted avg       1.00      1.00      1.00     45143\n",
            "\n"
          ]
        },
        {
          "output_type": "display_data",
          "data": {
            "image/png": "[encoded data removed]",
            "text/plain": [
              "<Figure size 864x864 with 2 Axes>"
            ]
          },
          "metadata": {
            "needs_background": "light"
          }
        }
      ]
    },
    {
      "cell_type": "code",
      "source": [
        "# second the multinomial naive bayes\n",
        "\n",
        "nb_clf = MultinomialNB()\n",
        "\n",
        "nb_clf.fit(new_X_train, y_train_cicids)\n",
        "\n",
        "y_pred = nb_clf.predict(new_X_test)\n",
        "\n",
        "print(classification_report(y_test_cicids, y_pred))\n",
        "\n",
        "evaluate_model(nb_clf, new_X_test, y_test_cicids, 'NB After ensemble method Feature selection')\n",
        "\n",
        "F1_NB = f1_score(y_test_cicids, y_pred, average='weighted')\n",
        "\n",
        "rfe_features2.append(['NB', F1_NB])\n"
      ],
      "metadata": {
        "colab": {
          "base_uri": "https://localhost:8080/",
          "height": 839
        },
        "outputId": "1ea6907e-bfb7-4374-cec6-e57e6d6e97fd",
        "id": "k8CfdSCOSCry"
      },
      "execution_count": null,
      "outputs": [
        {
          "output_type": "stream",
          "name": "stdout",
          "text": [
            "              precision    recall  f1-score   support\n",
            "\n",
            "           0       1.00      0.88      0.94     19538\n",
            "           1       0.92      1.00      0.96     25605\n",
            "\n",
            "    accuracy                           0.95     45143\n",
            "   macro avg       0.96      0.94      0.95     45143\n",
            "weighted avg       0.95      0.95      0.95     45143\n",
            "\n"
          ]
        },
        {
          "output_type": "display_data",
          "data": {
            "image/png": "[encoded data removed]",
            "text/plain": [
              "<Figure size 864x864 with 2 Axes>"
            ]
          },
          "metadata": {
            "needs_background": "light"
          }
        }
      ]
    },
    {
      "cell_type": "code",
      "source": [
        "# third the SVM model\n",
        "\n",
        "svm_clf = SVC(random_state = 42, C=100, gamma=1)\n",
        "\n",
        "svm_clf.fit(new_X_train, y_train_cicids)\n",
        "\n",
        "y_pred = svm_clf.predict(new_X_test)\n",
        "\n",
        "print(classification_report(y_test_cicids, y_pred))\n",
        "\n",
        "F1_SVM = f1_score(y_test_cicids, y_pred, average='weighted')\n",
        "\n",
        "rfe_features2.append(['SVM', F1_SVM])\n",
        "\n",
        "evaluate_model(svm_clf, new_X_test, y_test_cicids, 'SVM After ensemble method Feature selection')\n"
      ],
      "metadata": {
        "id": "SBefv8pgSCrz",
        "colab": {
          "base_uri": "https://localhost:8080/",
          "height": 839
        },
        "outputId": "21b2f084-5cf5-4a38-b0fd-51a450116f06"
      },
      "execution_count": null,
      "outputs": [
        {
          "output_type": "stream",
          "name": "stdout",
          "text": [
            "              precision    recall  f1-score   support\n",
            "\n",
            "           0       1.00      0.99      1.00     19538\n",
            "           1       0.99      1.00      1.00     25605\n",
            "\n",
            "    accuracy                           1.00     45143\n",
            "   macro avg       1.00      1.00      1.00     45143\n",
            "weighted avg       1.00      1.00      1.00     45143\n",
            "\n"
          ]
        },
        {
          "output_type": "display_data",
          "data": {
            "image/png": "[encoded data removed]",
            "text/plain": [
              "<Figure size 864x864 with 2 Axes>"
            ]
          },
          "metadata": {
            "needs_background": "light"
          }
        }
      ]
    },
    {
      "cell_type": "code",
      "source": [
        "# fourth the random forest classifier\n",
        "\n",
        "rf_clf = RandomForestClassifier(random_state = 42, n_estimators=128, max_depth=None)\n",
        "\n",
        "rf_clf.fit(new_X_train, y_train_cicids)\n",
        "\n",
        "y_pred = rf_clf.predict(new_X_test)\n",
        "\n",
        "print(classification_report(y_test_cicids, y_pred))\n",
        "\n",
        "F1_RF = f1_score(y_test_cicids, y_pred, average='weighted')\n",
        "\n",
        "rfe_features2.append(['RF', F1_RF])\n",
        "\n",
        "evaluate_model(rf_clf, new_X_test, y_test_cicids, 'RF After ensemble method Feature selection')\n"
      ],
      "metadata": {
        "id": "ZOnp1vOCSCr0",
        "colab": {
          "base_uri": "https://localhost:8080/",
          "height": 839
        },
        "outputId": "2bd436a4-2f42-4d7b-f6c1-e7fbeae8ac77"
      },
      "execution_count": null,
      "outputs": [
        {
          "output_type": "stream",
          "name": "stdout",
          "text": [
            "              precision    recall  f1-score   support\n",
            "\n",
            "           0       1.00      1.00      1.00     19538\n",
            "           1       1.00      1.00      1.00     25605\n",
            "\n",
            "    accuracy                           1.00     45143\n",
            "   macro avg       1.00      1.00      1.00     45143\n",
            "weighted avg       1.00      1.00      1.00     45143\n",
            "\n"
          ]
        },
        {
          "output_type": "display_data",
          "data": {
            "image/png": "[encoded data removed]",
            "text/plain": [
              "<Figure size 864x864 with 2 Axes>"
            ]
          },
          "metadata": {
            "needs_background": "light"
          }
        }
      ]
    },
    {
      "cell_type": "code",
      "source": [
        "plotModels(rfe_features2, 'After New Feature Selection method', 'Models', 'F1-SCORE')"
      ],
      "metadata": {
        "colab": {
          "base_uri": "https://localhost:8080/",
          "height": 295
        },
        "id": "6iCJw67drv9c",
        "outputId": "9e210c9e-06b9-4bb7-8523-f7b860230540"
      },
      "execution_count": null,
      "outputs": [
        {
          "output_type": "display_data",
          "data": {
            "image/png": "[encoded data removed]",
            "text/plain": [
              "<Figure size 432x288 with 1 Axes>"
            ]
          },
          "metadata": {
            "needs_background": "light"
          }
        }
      ]
    },
    {
      "cell_type": "code",
      "source": [
        "print('F1 score for each model was:')\n",
        "rfe_features2\n"
      ],
      "metadata": {
        "id": "-KWWls3nSCr1",
        "colab": {
          "base_uri": "https://localhost:8080/"
        },
        "outputId": "bf6e9f9b-899b-4a7e-c752-fb68b5c693f7"
      },
      "execution_count": null,
      "outputs": [
        {
          "output_type": "stream",
          "name": "stdout",
          "text": [
            "F1 score for each model was:\n"
          ]
        },
        {
          "output_type": "execute_result",
          "data": {
            "text/plain": [
              "[['MLP', 0.9996898706355312],\n",
              " ['NB', 0.9474306926751823],\n",
              " ['SVM', 0.996410048682223],\n",
              " ['RF', 0.9999335447155488]]"
            ]
          },
          "metadata": {},
          "execution_count": 267
        }
      ]
    }
  ]
}